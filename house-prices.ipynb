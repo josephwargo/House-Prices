{
 "cells": [
  {
   "cell_type": "markdown",
   "id": "c9d1d9a3",
   "metadata": {
    "papermill": {
     "duration": 0.007467,
     "end_time": "2022-09-12T22:48:13.478703",
     "exception": false,
     "start_time": "2022-09-12T22:48:13.471236",
     "status": "completed"
    },
    "tags": []
   },
   "source": [
    "## Importing:"
   ]
  },
  {
   "cell_type": "code",
   "execution_count": 1,
   "id": "950e5d65",
   "metadata": {
    "execution": {
     "iopub.execute_input": "2022-09-12T22:48:13.493858Z",
     "iopub.status.busy": "2022-09-12T22:48:13.493110Z",
     "iopub.status.idle": "2022-09-12T22:48:14.510881Z",
     "shell.execute_reply": "2022-09-12T22:48:14.509262Z"
    },
    "papermill": {
     "duration": 1.028364,
     "end_time": "2022-09-12T22:48:14.513497",
     "exception": false,
     "start_time": "2022-09-12T22:48:13.485133",
     "status": "completed"
    },
    "tags": []
   },
   "outputs": [
    {
     "name": "stdout",
     "output_type": "stream",
     "text": [
      "/kaggle/input/house-prices-advanced-regression-techniques/sample_submission.csv\n",
      "/kaggle/input/house-prices-advanced-regression-techniques/data_description.txt\n",
      "/kaggle/input/house-prices-advanced-regression-techniques/train.csv\n",
      "/kaggle/input/house-prices-advanced-regression-techniques/test.csv\n"
     ]
    }
   ],
   "source": [
    "import numpy as np # linear algebra\n",
    "import pandas as pd # data processing, CSV file I/O (e.g. pd.read_csv)\n",
    "import matplotlib.pyplot as plt #graphing\n",
    "import matplotlib.patches as mpatches #style\n",
    "import seaborn as sns #advanced graphing\n",
    "import scipy as sp #math stuff\n",
    "%matplotlib inline\n",
    "\n",
    "import os\n",
    "for dirname, _, filenames in os.walk('/kaggle/input'):\n",
    "    for filename in filenames:\n",
    "        print(os.path.join(dirname, filename))"
   ]
  },
  {
   "cell_type": "code",
   "execution_count": 2,
   "id": "5d654f57",
   "metadata": {
    "execution": {
     "iopub.execute_input": "2022-09-12T22:48:14.527470Z",
     "iopub.status.busy": "2022-09-12T22:48:14.527114Z",
     "iopub.status.idle": "2022-09-12T22:48:14.626538Z",
     "shell.execute_reply": "2022-09-12T22:48:14.625575Z"
    },
    "papermill": {
     "duration": 0.109527,
     "end_time": "2022-09-12T22:48:14.629417",
     "exception": false,
     "start_time": "2022-09-12T22:48:14.519890",
     "status": "completed"
    },
    "tags": []
   },
   "outputs": [],
   "source": [
    "#importing csvs\n",
    "train = pd.read_csv('/kaggle/input/house-prices-advanced-regression-techniques/train.csv')\n",
    "test = pd.read_csv('/kaggle/input/house-prices-advanced-regression-techniques/test.csv')\n",
    "train['train_test'] = 1\n",
    "test['train_test'] = 0\n",
    "all_data = pd.concat([train,test])"
   ]
  },
  {
   "cell_type": "markdown",
   "id": "16fa52b7",
   "metadata": {
    "papermill": {
     "duration": 0.006265,
     "end_time": "2022-09-12T22:48:14.642491",
     "exception": false,
     "start_time": "2022-09-12T22:48:14.636226",
     "status": "completed"
    },
    "tags": []
   },
   "source": [
    "## Discovering:"
   ]
  },
  {
   "cell_type": "code",
   "execution_count": 3,
   "id": "788f66d0",
   "metadata": {
    "execution": {
     "iopub.execute_input": "2022-09-12T22:48:14.657655Z",
     "iopub.status.busy": "2022-09-12T22:48:14.656901Z",
     "iopub.status.idle": "2022-09-12T22:48:14.688228Z",
     "shell.execute_reply": "2022-09-12T22:48:14.687216Z"
    },
    "papermill": {
     "duration": 0.04216,
     "end_time": "2022-09-12T22:48:14.691065",
     "exception": false,
     "start_time": "2022-09-12T22:48:14.648905",
     "status": "completed"
    },
    "tags": []
   },
   "outputs": [
    {
     "name": "stdout",
     "output_type": "stream",
     "text": [
      "<class 'pandas.core.frame.DataFrame'>\n",
      "Int64Index: 2919 entries, 0 to 1458\n",
      "Data columns (total 82 columns):\n",
      " #   Column         Non-Null Count  Dtype  \n",
      "---  ------         --------------  -----  \n",
      " 0   Id             2919 non-null   int64  \n",
      " 1   MSSubClass     2919 non-null   int64  \n",
      " 2   MSZoning       2915 non-null   object \n",
      " 3   LotFrontage    2433 non-null   float64\n",
      " 4   LotArea        2919 non-null   int64  \n",
      " 5   Street         2919 non-null   object \n",
      " 6   Alley          198 non-null    object \n",
      " 7   LotShape       2919 non-null   object \n",
      " 8   LandContour    2919 non-null   object \n",
      " 9   Utilities      2917 non-null   object \n",
      " 10  LotConfig      2919 non-null   object \n",
      " 11  LandSlope      2919 non-null   object \n",
      " 12  Neighborhood   2919 non-null   object \n",
      " 13  Condition1     2919 non-null   object \n",
      " 14  Condition2     2919 non-null   object \n",
      " 15  BldgType       2919 non-null   object \n",
      " 16  HouseStyle     2919 non-null   object \n",
      " 17  OverallQual    2919 non-null   int64  \n",
      " 18  OverallCond    2919 non-null   int64  \n",
      " 19  YearBuilt      2919 non-null   int64  \n",
      " 20  YearRemodAdd   2919 non-null   int64  \n",
      " 21  RoofStyle      2919 non-null   object \n",
      " 22  RoofMatl       2919 non-null   object \n",
      " 23  Exterior1st    2918 non-null   object \n",
      " 24  Exterior2nd    2918 non-null   object \n",
      " 25  MasVnrType     2895 non-null   object \n",
      " 26  MasVnrArea     2896 non-null   float64\n",
      " 27  ExterQual      2919 non-null   object \n",
      " 28  ExterCond      2919 non-null   object \n",
      " 29  Foundation     2919 non-null   object \n",
      " 30  BsmtQual       2838 non-null   object \n",
      " 31  BsmtCond       2837 non-null   object \n",
      " 32  BsmtExposure   2837 non-null   object \n",
      " 33  BsmtFinType1   2840 non-null   object \n",
      " 34  BsmtFinSF1     2918 non-null   float64\n",
      " 35  BsmtFinType2   2839 non-null   object \n",
      " 36  BsmtFinSF2     2918 non-null   float64\n",
      " 37  BsmtUnfSF      2918 non-null   float64\n",
      " 38  TotalBsmtSF    2918 non-null   float64\n",
      " 39  Heating        2919 non-null   object \n",
      " 40  HeatingQC      2919 non-null   object \n",
      " 41  CentralAir     2919 non-null   object \n",
      " 42  Electrical     2918 non-null   object \n",
      " 43  1stFlrSF       2919 non-null   int64  \n",
      " 44  2ndFlrSF       2919 non-null   int64  \n",
      " 45  LowQualFinSF   2919 non-null   int64  \n",
      " 46  GrLivArea      2919 non-null   int64  \n",
      " 47  BsmtFullBath   2917 non-null   float64\n",
      " 48  BsmtHalfBath   2917 non-null   float64\n",
      " 49  FullBath       2919 non-null   int64  \n",
      " 50  HalfBath       2919 non-null   int64  \n",
      " 51  BedroomAbvGr   2919 non-null   int64  \n",
      " 52  KitchenAbvGr   2919 non-null   int64  \n",
      " 53  KitchenQual    2918 non-null   object \n",
      " 54  TotRmsAbvGrd   2919 non-null   int64  \n",
      " 55  Functional     2917 non-null   object \n",
      " 56  Fireplaces     2919 non-null   int64  \n",
      " 57  FireplaceQu    1499 non-null   object \n",
      " 58  GarageType     2762 non-null   object \n",
      " 59  GarageYrBlt    2760 non-null   float64\n",
      " 60  GarageFinish   2760 non-null   object \n",
      " 61  GarageCars     2918 non-null   float64\n",
      " 62  GarageArea     2918 non-null   float64\n",
      " 63  GarageQual     2760 non-null   object \n",
      " 64  GarageCond     2760 non-null   object \n",
      " 65  PavedDrive     2919 non-null   object \n",
      " 66  WoodDeckSF     2919 non-null   int64  \n",
      " 67  OpenPorchSF    2919 non-null   int64  \n",
      " 68  EnclosedPorch  2919 non-null   int64  \n",
      " 69  3SsnPorch      2919 non-null   int64  \n",
      " 70  ScreenPorch    2919 non-null   int64  \n",
      " 71  PoolArea       2919 non-null   int64  \n",
      " 72  PoolQC         10 non-null     object \n",
      " 73  Fence          571 non-null    object \n",
      " 74  MiscFeature    105 non-null    object \n",
      " 75  MiscVal        2919 non-null   int64  \n",
      " 76  MoSold         2919 non-null   int64  \n",
      " 77  YrSold         2919 non-null   int64  \n",
      " 78  SaleType       2918 non-null   object \n",
      " 79  SaleCondition  2919 non-null   object \n",
      " 80  SalePrice      1460 non-null   float64\n",
      " 81  train_test     2919 non-null   int64  \n",
      "dtypes: float64(12), int64(27), object(43)\n",
      "memory usage: 1.8+ MB\n"
     ]
    }
   ],
   "source": [
    "#getting a general idea of variable types\n",
    "all_data.info()"
   ]
  },
  {
   "cell_type": "code",
   "execution_count": 4,
   "id": "f152d4ed",
   "metadata": {
    "execution": {
     "iopub.execute_input": "2022-09-12T22:48:14.705650Z",
     "iopub.status.busy": "2022-09-12T22:48:14.704842Z",
     "iopub.status.idle": "2022-09-12T22:48:14.843383Z",
     "shell.execute_reply": "2022-09-12T22:48:14.841761Z"
    },
    "papermill": {
     "duration": 0.152776,
     "end_time": "2022-09-12T22:48:14.850302",
     "exception": false,
     "start_time": "2022-09-12T22:48:14.697526",
     "status": "completed"
    },
    "tags": []
   },
   "outputs": [
    {
     "data": {
      "text/html": [
       "<div>\n",
       "<style scoped>\n",
       "    .dataframe tbody tr th:only-of-type {\n",
       "        vertical-align: middle;\n",
       "    }\n",
       "\n",
       "    .dataframe tbody tr th {\n",
       "        vertical-align: top;\n",
       "    }\n",
       "\n",
       "    .dataframe thead th {\n",
       "        text-align: right;\n",
       "    }\n",
       "</style>\n",
       "<table border=\"1\" class=\"dataframe\">\n",
       "  <thead>\n",
       "    <tr style=\"text-align: right;\">\n",
       "      <th></th>\n",
       "      <th>Id</th>\n",
       "      <th>MSSubClass</th>\n",
       "      <th>LotFrontage</th>\n",
       "      <th>LotArea</th>\n",
       "      <th>OverallQual</th>\n",
       "      <th>OverallCond</th>\n",
       "      <th>YearBuilt</th>\n",
       "      <th>YearRemodAdd</th>\n",
       "      <th>MasVnrArea</th>\n",
       "      <th>BsmtFinSF1</th>\n",
       "      <th>...</th>\n",
       "      <th>OpenPorchSF</th>\n",
       "      <th>EnclosedPorch</th>\n",
       "      <th>3SsnPorch</th>\n",
       "      <th>ScreenPorch</th>\n",
       "      <th>PoolArea</th>\n",
       "      <th>MiscVal</th>\n",
       "      <th>MoSold</th>\n",
       "      <th>YrSold</th>\n",
       "      <th>SalePrice</th>\n",
       "      <th>train_test</th>\n",
       "    </tr>\n",
       "  </thead>\n",
       "  <tbody>\n",
       "    <tr>\n",
       "      <th>count</th>\n",
       "      <td>2919.000000</td>\n",
       "      <td>2919.000000</td>\n",
       "      <td>2433.000000</td>\n",
       "      <td>2919.000000</td>\n",
       "      <td>2919.000000</td>\n",
       "      <td>2919.000000</td>\n",
       "      <td>2919.000000</td>\n",
       "      <td>2919.000000</td>\n",
       "      <td>2896.000000</td>\n",
       "      <td>2918.000000</td>\n",
       "      <td>...</td>\n",
       "      <td>2919.000000</td>\n",
       "      <td>2919.000000</td>\n",
       "      <td>2919.000000</td>\n",
       "      <td>2919.000000</td>\n",
       "      <td>2919.000000</td>\n",
       "      <td>2919.000000</td>\n",
       "      <td>2919.000000</td>\n",
       "      <td>2919.000000</td>\n",
       "      <td>1460.000000</td>\n",
       "      <td>2919.000000</td>\n",
       "    </tr>\n",
       "    <tr>\n",
       "      <th>mean</th>\n",
       "      <td>1460.000000</td>\n",
       "      <td>57.137718</td>\n",
       "      <td>69.305795</td>\n",
       "      <td>10168.114080</td>\n",
       "      <td>6.089072</td>\n",
       "      <td>5.564577</td>\n",
       "      <td>1971.312778</td>\n",
       "      <td>1984.264474</td>\n",
       "      <td>102.201312</td>\n",
       "      <td>441.423235</td>\n",
       "      <td>...</td>\n",
       "      <td>47.486811</td>\n",
       "      <td>23.098321</td>\n",
       "      <td>2.602261</td>\n",
       "      <td>16.062350</td>\n",
       "      <td>2.251799</td>\n",
       "      <td>50.825968</td>\n",
       "      <td>6.213087</td>\n",
       "      <td>2007.792737</td>\n",
       "      <td>180921.195890</td>\n",
       "      <td>0.500171</td>\n",
       "    </tr>\n",
       "    <tr>\n",
       "      <th>std</th>\n",
       "      <td>842.787043</td>\n",
       "      <td>42.517628</td>\n",
       "      <td>23.344905</td>\n",
       "      <td>7886.996359</td>\n",
       "      <td>1.409947</td>\n",
       "      <td>1.113131</td>\n",
       "      <td>30.291442</td>\n",
       "      <td>20.894344</td>\n",
       "      <td>179.334253</td>\n",
       "      <td>455.610826</td>\n",
       "      <td>...</td>\n",
       "      <td>67.575493</td>\n",
       "      <td>64.244246</td>\n",
       "      <td>25.188169</td>\n",
       "      <td>56.184365</td>\n",
       "      <td>35.663946</td>\n",
       "      <td>567.402211</td>\n",
       "      <td>2.714762</td>\n",
       "      <td>1.314964</td>\n",
       "      <td>79442.502883</td>\n",
       "      <td>0.500086</td>\n",
       "    </tr>\n",
       "    <tr>\n",
       "      <th>min</th>\n",
       "      <td>1.000000</td>\n",
       "      <td>20.000000</td>\n",
       "      <td>21.000000</td>\n",
       "      <td>1300.000000</td>\n",
       "      <td>1.000000</td>\n",
       "      <td>1.000000</td>\n",
       "      <td>1872.000000</td>\n",
       "      <td>1950.000000</td>\n",
       "      <td>0.000000</td>\n",
       "      <td>0.000000</td>\n",
       "      <td>...</td>\n",
       "      <td>0.000000</td>\n",
       "      <td>0.000000</td>\n",
       "      <td>0.000000</td>\n",
       "      <td>0.000000</td>\n",
       "      <td>0.000000</td>\n",
       "      <td>0.000000</td>\n",
       "      <td>1.000000</td>\n",
       "      <td>2006.000000</td>\n",
       "      <td>34900.000000</td>\n",
       "      <td>0.000000</td>\n",
       "    </tr>\n",
       "    <tr>\n",
       "      <th>25%</th>\n",
       "      <td>730.500000</td>\n",
       "      <td>20.000000</td>\n",
       "      <td>59.000000</td>\n",
       "      <td>7478.000000</td>\n",
       "      <td>5.000000</td>\n",
       "      <td>5.000000</td>\n",
       "      <td>1953.500000</td>\n",
       "      <td>1965.000000</td>\n",
       "      <td>0.000000</td>\n",
       "      <td>0.000000</td>\n",
       "      <td>...</td>\n",
       "      <td>0.000000</td>\n",
       "      <td>0.000000</td>\n",
       "      <td>0.000000</td>\n",
       "      <td>0.000000</td>\n",
       "      <td>0.000000</td>\n",
       "      <td>0.000000</td>\n",
       "      <td>4.000000</td>\n",
       "      <td>2007.000000</td>\n",
       "      <td>129975.000000</td>\n",
       "      <td>0.000000</td>\n",
       "    </tr>\n",
       "    <tr>\n",
       "      <th>50%</th>\n",
       "      <td>1460.000000</td>\n",
       "      <td>50.000000</td>\n",
       "      <td>68.000000</td>\n",
       "      <td>9453.000000</td>\n",
       "      <td>6.000000</td>\n",
       "      <td>5.000000</td>\n",
       "      <td>1973.000000</td>\n",
       "      <td>1993.000000</td>\n",
       "      <td>0.000000</td>\n",
       "      <td>368.500000</td>\n",
       "      <td>...</td>\n",
       "      <td>26.000000</td>\n",
       "      <td>0.000000</td>\n",
       "      <td>0.000000</td>\n",
       "      <td>0.000000</td>\n",
       "      <td>0.000000</td>\n",
       "      <td>0.000000</td>\n",
       "      <td>6.000000</td>\n",
       "      <td>2008.000000</td>\n",
       "      <td>163000.000000</td>\n",
       "      <td>1.000000</td>\n",
       "    </tr>\n",
       "    <tr>\n",
       "      <th>75%</th>\n",
       "      <td>2189.500000</td>\n",
       "      <td>70.000000</td>\n",
       "      <td>80.000000</td>\n",
       "      <td>11570.000000</td>\n",
       "      <td>7.000000</td>\n",
       "      <td>6.000000</td>\n",
       "      <td>2001.000000</td>\n",
       "      <td>2004.000000</td>\n",
       "      <td>164.000000</td>\n",
       "      <td>733.000000</td>\n",
       "      <td>...</td>\n",
       "      <td>70.000000</td>\n",
       "      <td>0.000000</td>\n",
       "      <td>0.000000</td>\n",
       "      <td>0.000000</td>\n",
       "      <td>0.000000</td>\n",
       "      <td>0.000000</td>\n",
       "      <td>8.000000</td>\n",
       "      <td>2009.000000</td>\n",
       "      <td>214000.000000</td>\n",
       "      <td>1.000000</td>\n",
       "    </tr>\n",
       "    <tr>\n",
       "      <th>max</th>\n",
       "      <td>2919.000000</td>\n",
       "      <td>190.000000</td>\n",
       "      <td>313.000000</td>\n",
       "      <td>215245.000000</td>\n",
       "      <td>10.000000</td>\n",
       "      <td>9.000000</td>\n",
       "      <td>2010.000000</td>\n",
       "      <td>2010.000000</td>\n",
       "      <td>1600.000000</td>\n",
       "      <td>5644.000000</td>\n",
       "      <td>...</td>\n",
       "      <td>742.000000</td>\n",
       "      <td>1012.000000</td>\n",
       "      <td>508.000000</td>\n",
       "      <td>576.000000</td>\n",
       "      <td>800.000000</td>\n",
       "      <td>17000.000000</td>\n",
       "      <td>12.000000</td>\n",
       "      <td>2010.000000</td>\n",
       "      <td>755000.000000</td>\n",
       "      <td>1.000000</td>\n",
       "    </tr>\n",
       "  </tbody>\n",
       "</table>\n",
       "<p>8 rows × 39 columns</p>\n",
       "</div>"
      ],
      "text/plain": [
       "                Id   MSSubClass  LotFrontage        LotArea  OverallQual  \\\n",
       "count  2919.000000  2919.000000  2433.000000    2919.000000  2919.000000   \n",
       "mean   1460.000000    57.137718    69.305795   10168.114080     6.089072   \n",
       "std     842.787043    42.517628    23.344905    7886.996359     1.409947   \n",
       "min       1.000000    20.000000    21.000000    1300.000000     1.000000   \n",
       "25%     730.500000    20.000000    59.000000    7478.000000     5.000000   \n",
       "50%    1460.000000    50.000000    68.000000    9453.000000     6.000000   \n",
       "75%    2189.500000    70.000000    80.000000   11570.000000     7.000000   \n",
       "max    2919.000000   190.000000   313.000000  215245.000000    10.000000   \n",
       "\n",
       "       OverallCond    YearBuilt  YearRemodAdd   MasVnrArea   BsmtFinSF1  ...  \\\n",
       "count  2919.000000  2919.000000   2919.000000  2896.000000  2918.000000  ...   \n",
       "mean      5.564577  1971.312778   1984.264474   102.201312   441.423235  ...   \n",
       "std       1.113131    30.291442     20.894344   179.334253   455.610826  ...   \n",
       "min       1.000000  1872.000000   1950.000000     0.000000     0.000000  ...   \n",
       "25%       5.000000  1953.500000   1965.000000     0.000000     0.000000  ...   \n",
       "50%       5.000000  1973.000000   1993.000000     0.000000   368.500000  ...   \n",
       "75%       6.000000  2001.000000   2004.000000   164.000000   733.000000  ...   \n",
       "max       9.000000  2010.000000   2010.000000  1600.000000  5644.000000  ...   \n",
       "\n",
       "       OpenPorchSF  EnclosedPorch    3SsnPorch  ScreenPorch     PoolArea  \\\n",
       "count  2919.000000    2919.000000  2919.000000  2919.000000  2919.000000   \n",
       "mean     47.486811      23.098321     2.602261    16.062350     2.251799   \n",
       "std      67.575493      64.244246    25.188169    56.184365    35.663946   \n",
       "min       0.000000       0.000000     0.000000     0.000000     0.000000   \n",
       "25%       0.000000       0.000000     0.000000     0.000000     0.000000   \n",
       "50%      26.000000       0.000000     0.000000     0.000000     0.000000   \n",
       "75%      70.000000       0.000000     0.000000     0.000000     0.000000   \n",
       "max     742.000000    1012.000000   508.000000   576.000000   800.000000   \n",
       "\n",
       "            MiscVal       MoSold       YrSold      SalePrice   train_test  \n",
       "count   2919.000000  2919.000000  2919.000000    1460.000000  2919.000000  \n",
       "mean      50.825968     6.213087  2007.792737  180921.195890     0.500171  \n",
       "std      567.402211     2.714762     1.314964   79442.502883     0.500086  \n",
       "min        0.000000     1.000000  2006.000000   34900.000000     0.000000  \n",
       "25%        0.000000     4.000000  2007.000000  129975.000000     0.000000  \n",
       "50%        0.000000     6.000000  2008.000000  163000.000000     1.000000  \n",
       "75%        0.000000     8.000000  2009.000000  214000.000000     1.000000  \n",
       "max    17000.000000    12.000000  2010.000000  755000.000000     1.000000  \n",
       "\n",
       "[8 rows x 39 columns]"
      ]
     },
     "execution_count": 4,
     "metadata": {},
     "output_type": "execute_result"
    }
   ],
   "source": [
    "#getting an idea of the quantitative variables\n",
    "all_data.describe()"
   ]
  },
  {
   "cell_type": "code",
   "execution_count": 5,
   "id": "7b384e4b",
   "metadata": {
    "execution": {
     "iopub.execute_input": "2022-09-12T22:48:14.871381Z",
     "iopub.status.busy": "2022-09-12T22:48:14.870597Z",
     "iopub.status.idle": "2022-09-12T22:48:14.882479Z",
     "shell.execute_reply": "2022-09-12T22:48:14.881245Z"
    },
    "papermill": {
     "duration": 0.022929,
     "end_time": "2022-09-12T22:48:14.884806",
     "exception": false,
     "start_time": "2022-09-12T22:48:14.861877",
     "status": "completed"
    },
    "tags": []
   },
   "outputs": [],
   "source": [
    "#seperating variables in to quantitative and qualitative\n",
    "qual_vars = []\n",
    "quant_vars = []\n",
    "for column in all_data.columns:\n",
    "    if all_data[column].dtype == 'object':\n",
    "        qual_vars.append(column)\n",
    "    else:\n",
    "        quant_vars.append(column)\n",
    "quant_vars.remove('SalePrice')\n",
    "quant_vars.remove('Id')\n",
    "quant_vars.remove('MSSubClass')\n",
    "qual_vars.append('MSSubClass')"
   ]
  },
  {
   "cell_type": "code",
   "execution_count": 6,
   "id": "00c713a4",
   "metadata": {
    "execution": {
     "iopub.execute_input": "2022-09-12T22:48:14.903082Z",
     "iopub.status.busy": "2022-09-12T22:48:14.902648Z",
     "iopub.status.idle": "2022-09-12T22:48:14.918735Z",
     "shell.execute_reply": "2022-09-12T22:48:14.917696Z"
    },
    "papermill": {
     "duration": 0.02677,
     "end_time": "2022-09-12T22:48:14.920956",
     "exception": false,
     "start_time": "2022-09-12T22:48:14.894186",
     "status": "completed"
    },
    "tags": []
   },
   "outputs": [
    {
     "data": {
      "text/plain": [
       "Id                  0\n",
       "MSSubClass          0\n",
       "MSZoning            4\n",
       "LotFrontage       486\n",
       "LotArea             0\n",
       "                 ... \n",
       "YrSold              0\n",
       "SaleType            1\n",
       "SaleCondition       0\n",
       "SalePrice        1459\n",
       "train_test          0\n",
       "Length: 82, dtype: int64"
      ]
     },
     "execution_count": 6,
     "metadata": {},
     "output_type": "execute_result"
    }
   ],
   "source": [
    "all_data.isna().sum()"
   ]
  },
  {
   "cell_type": "code",
   "execution_count": 7,
   "id": "d0ea7749",
   "metadata": {
    "execution": {
     "iopub.execute_input": "2022-09-12T22:48:14.936409Z",
     "iopub.status.busy": "2022-09-12T22:48:14.936062Z",
     "iopub.status.idle": "2022-09-12T22:48:14.953966Z",
     "shell.execute_reply": "2022-09-12T22:48:14.952656Z"
    },
    "papermill": {
     "duration": 0.028192,
     "end_time": "2022-09-12T22:48:14.956157",
     "exception": false,
     "start_time": "2022-09-12T22:48:14.927965",
     "status": "completed"
    },
    "tags": []
   },
   "outputs": [],
   "source": [
    "#replacing missing values\n",
    "LotFrontageMedian = np.median(train['LotFrontage'].dropna())\n",
    "GarageYrBltMedian = np.median(train['GarageYrBlt'].dropna())\n",
    "MasVnrAreaMedian = np.median(train['MasVnrArea'].dropna())\n",
    "BsmtFinSF1Median = np.median(train['BsmtFinSF1'].dropna())\n",
    "BsmtFinSF2Median = np.median(train['BsmtFinSF2'].dropna())\n",
    "BsmtUnfSFMedian = np.median(train['BsmtUnfSF'].dropna())\n",
    "TotalBsmtSFMedian = np.median(train['TotalBsmtSF'].dropna())\n",
    "BsmtFullBathMedian = np.median(train['BsmtFullBath'].dropna())\n",
    "BsmtHalfBathMedian = np.median(train['BsmtHalfBath'].dropna())\n",
    "GarageCarsMedian = np.median(train['GarageCars'].dropna())\n",
    "GarageAreaMedian = np.median(train['GarageArea'].dropna())\n",
    "values = {'LotFrontage': LotFrontageMedian, 'GarageYrBlt': GarageYrBltMedian, 'MasVnrArea': MasVnrAreaMedian\n",
    "         ,'BsmtFinSF1': BsmtFinSF1Median, 'BsmtFinSF2': BsmtFinSF2Median, 'BsmtUnfSF': BsmtUnfSFMedian,\n",
    "          'TotalBsmtSF': TotalBsmtSFMedian,'BsmtFullBath': BsmtFullBathMedian, 'BsmtHalfBath': BsmtHalfBathMedian,\n",
    "          'GarageCars': GarageCarsMedian,'GarageArea': GarageAreaMedian}\n",
    "test.fillna(value=values,inplace=True)\n",
    "train.fillna(value=values, inplace=True)"
   ]
  },
  {
   "cell_type": "code",
   "execution_count": 8,
   "id": "1fcc420f",
   "metadata": {
    "execution": {
     "iopub.execute_input": "2022-09-12T22:48:14.971466Z",
     "iopub.status.busy": "2022-09-12T22:48:14.971097Z",
     "iopub.status.idle": "2022-09-12T22:48:15.034704Z",
     "shell.execute_reply": "2022-09-12T22:48:15.033542Z"
    },
    "papermill": {
     "duration": 0.07467,
     "end_time": "2022-09-12T22:48:15.037761",
     "exception": false,
     "start_time": "2022-09-12T22:48:14.963091",
     "status": "completed"
    },
    "tags": []
   },
   "outputs": [],
   "source": [
    "#getting dummies\n",
    "qual_vars.append('Id')\n",
    "qual_vars.append('train_test')\n",
    "dummies = pd.get_dummies(all_data[qual_vars])\n",
    "train_dummies = dummies[dummies['train_test']==1]\n",
    "test_dummies = dummies[dummies['train_test']==0]"
   ]
  },
  {
   "cell_type": "code",
   "execution_count": 9,
   "id": "83bece8f",
   "metadata": {
    "execution": {
     "iopub.execute_input": "2022-09-12T22:48:15.053414Z",
     "iopub.status.busy": "2022-09-12T22:48:15.053042Z",
     "iopub.status.idle": "2022-09-12T22:48:15.079725Z",
     "shell.execute_reply": "2022-09-12T22:48:15.078415Z"
    },
    "papermill": {
     "duration": 0.037496,
     "end_time": "2022-09-12T22:48:15.082434",
     "exception": false,
     "start_time": "2022-09-12T22:48:15.044938",
     "status": "completed"
    },
    "tags": []
   },
   "outputs": [],
   "source": [
    "#final split into x, y, test, and train\n",
    "quant_vars.append('Id')\n",
    "X_train = train[quant_vars]\n",
    "X_train = X_train.merge(train_dummies, on='Id')\n",
    "y_train = train['SalePrice']\n",
    "X_test = test[quant_vars]\n",
    "X_test = X_test.merge(test_dummies, on='Id')"
   ]
  },
  {
   "cell_type": "markdown",
   "id": "a57554e8",
   "metadata": {
    "papermill": {
     "duration": 0.006672,
     "end_time": "2022-09-12T22:48:15.096095",
     "exception": false,
     "start_time": "2022-09-12T22:48:15.089423",
     "status": "completed"
    },
    "tags": []
   },
   "source": [
    "## Exploratory Analysis:"
   ]
  },
  {
   "cell_type": "code",
   "execution_count": 10,
   "id": "6ba6cffb",
   "metadata": {
    "_kg_hide-output": true,
    "execution": {
     "iopub.execute_input": "2022-09-12T22:48:15.112191Z",
     "iopub.status.busy": "2022-09-12T22:48:15.111583Z",
     "iopub.status.idle": "2022-09-12T22:48:15.116611Z",
     "shell.execute_reply": "2022-09-12T22:48:15.115491Z"
    },
    "papermill": {
     "duration": 0.015959,
     "end_time": "2022-09-12T22:48:15.118809",
     "exception": false,
     "start_time": "2022-09-12T22:48:15.102850",
     "status": "completed"
    },
    "tags": []
   },
   "outputs": [],
   "source": [
    "#looking at correlations between qualitative variables and price graphically\n",
    "#for var in quant_vars:\n",
    "    #sns.regplot(data=train,x=var,y='SalePrice')\n",
    "    #plt.show()"
   ]
  },
  {
   "cell_type": "code",
   "execution_count": 11,
   "id": "75ff6a10",
   "metadata": {
    "execution": {
     "iopub.execute_input": "2022-09-12T22:48:15.133508Z",
     "iopub.status.busy": "2022-09-12T22:48:15.133188Z",
     "iopub.status.idle": "2022-09-12T22:48:15.379550Z",
     "shell.execute_reply": "2022-09-12T22:48:15.378666Z"
    },
    "papermill": {
     "duration": 0.256429,
     "end_time": "2022-09-12T22:48:15.381863",
     "exception": false,
     "start_time": "2022-09-12T22:48:15.125434",
     "status": "completed"
    },
    "tags": []
   },
   "outputs": [],
   "source": [
    "from sklearn.metrics import r2_score\n",
    "from sklearn.linear_model import LinearRegression"
   ]
  },
  {
   "cell_type": "code",
   "execution_count": 12,
   "id": "ba8b66cc",
   "metadata": {
    "execution": {
     "iopub.execute_input": "2022-09-12T22:48:15.397362Z",
     "iopub.status.busy": "2022-09-12T22:48:15.396995Z",
     "iopub.status.idle": "2022-09-12T22:48:15.401436Z",
     "shell.execute_reply": "2022-09-12T22:48:15.400384Z"
    },
    "papermill": {
     "duration": 0.014247,
     "end_time": "2022-09-12T22:48:15.403520",
     "exception": false,
     "start_time": "2022-09-12T22:48:15.389273",
     "status": "completed"
    },
    "tags": []
   },
   "outputs": [],
   "source": [
    "#looking at correlations between qualitative variables and price using r_squared\n",
    "# for var in quant_vars:\n",
    "#     x = X_train[var]\n",
    "#     X = x[:, None]\n",
    "#     reg = LinearRegression()\n",
    "#     reg.fit(X,y_train)\n",
    "#     y = reg.predict(X_test[var][:, None])\n",
    "#     r2_score(y)"
   ]
  },
  {
   "cell_type": "code",
   "execution_count": 13,
   "id": "38fa3a3b",
   "metadata": {
    "execution": {
     "iopub.execute_input": "2022-09-12T22:48:15.419311Z",
     "iopub.status.busy": "2022-09-12T22:48:15.418429Z",
     "iopub.status.idle": "2022-09-12T22:48:15.422579Z",
     "shell.execute_reply": "2022-09-12T22:48:15.421853Z"
    },
    "papermill": {
     "duration": 0.013687,
     "end_time": "2022-09-12T22:48:15.424406",
     "exception": false,
     "start_time": "2022-09-12T22:48:15.410719",
     "status": "completed"
    },
    "tags": []
   },
   "outputs": [],
   "source": [
    "# X_test.isna().sum()"
   ]
  },
  {
   "cell_type": "markdown",
   "id": "7d10dcc8",
   "metadata": {
    "papermill": {
     "duration": 0.006599,
     "end_time": "2022-09-12T22:48:15.437720",
     "exception": false,
     "start_time": "2022-09-12T22:48:15.431121",
     "status": "completed"
    },
    "tags": []
   },
   "source": [
    "## Preliminary Correlations"
   ]
  },
  {
   "cell_type": "code",
   "execution_count": 14,
   "id": "da4709aa",
   "metadata": {
    "execution": {
     "iopub.execute_input": "2022-09-12T22:48:15.453165Z",
     "iopub.status.busy": "2022-09-12T22:48:15.452496Z",
     "iopub.status.idle": "2022-09-12T22:48:15.553107Z",
     "shell.execute_reply": "2022-09-12T22:48:15.551944Z"
    },
    "papermill": {
     "duration": 0.111303,
     "end_time": "2022-09-12T22:48:15.555818",
     "exception": false,
     "start_time": "2022-09-12T22:48:15.444515",
     "status": "completed"
    },
    "tags": []
   },
   "outputs": [],
   "source": [
    "#importing models\n",
    "from sklearn.preprocessing import StandardScaler\n",
    "from sklearn.model_selection import cross_val_score\n",
    "from sklearn.linear_model import LinearRegression\n",
    "from sklearn.linear_model import Ridge\n",
    "from sklearn.linear_model import Lasso\n",
    "from xgboost import XGBRegressor"
   ]
  },
  {
   "cell_type": "code",
   "execution_count": 15,
   "id": "b148a213",
   "metadata": {
    "execution": {
     "iopub.execute_input": "2022-09-12T22:48:15.571307Z",
     "iopub.status.busy": "2022-09-12T22:48:15.570860Z",
     "iopub.status.idle": "2022-09-12T22:48:15.574895Z",
     "shell.execute_reply": "2022-09-12T22:48:15.574172Z"
    },
    "papermill": {
     "duration": 0.014028,
     "end_time": "2022-09-12T22:48:15.576862",
     "exception": false,
     "start_time": "2022-09-12T22:48:15.562834",
     "status": "completed"
    },
    "tags": []
   },
   "outputs": [],
   "source": [
    "#scaling\n",
    "#scaler=StandardScaler()\n",
    "#X_train_scaled = scaler.fit_transform(X_train)\n",
    "#X_test_scaled = scaler.fit_transform(X_test)"
   ]
  },
  {
   "cell_type": "code",
   "execution_count": 16,
   "id": "de3d0c7f",
   "metadata": {
    "execution": {
     "iopub.execute_input": "2022-09-12T22:48:15.591986Z",
     "iopub.status.busy": "2022-09-12T22:48:15.591356Z",
     "iopub.status.idle": "2022-09-12T22:48:16.284129Z",
     "shell.execute_reply": "2022-09-12T22:48:16.282546Z"
    },
    "papermill": {
     "duration": 0.704587,
     "end_time": "2022-09-12T22:48:16.288247",
     "exception": false,
     "start_time": "2022-09-12T22:48:15.583660",
     "status": "completed"
    },
    "tags": []
   },
   "outputs": [
    {
     "name": "stdout",
     "output_type": "stream",
     "text": [
      "[0.82274251 0.82014796 0.7938363  0.88785855 0.64310393]\n",
      "0.7935378524251281\n"
     ]
    }
   ],
   "source": [
    "#linear regression\n",
    "reg = LinearRegression()\n",
    "cv = cross_val_score(reg,X_train,y_train,cv=5)\n",
    "print(cv)\n",
    "print(np.mean(cv))"
   ]
  },
  {
   "cell_type": "code",
   "execution_count": 17,
   "id": "b101ceaa",
   "metadata": {
    "execution": {
     "iopub.execute_input": "2022-09-12T22:48:16.372635Z",
     "iopub.status.busy": "2022-09-12T22:48:16.371979Z",
     "iopub.status.idle": "2022-09-12T22:48:16.615926Z",
     "shell.execute_reply": "2022-09-12T22:48:16.613001Z"
    },
    "papermill": {
     "duration": 0.29227,
     "end_time": "2022-09-12T22:48:16.621527",
     "exception": false,
     "start_time": "2022-09-12T22:48:16.329257",
     "status": "completed"
    },
    "tags": []
   },
   "outputs": [
    {
     "name": "stdout",
     "output_type": "stream",
     "text": [
      "[0.88687651 0.82509237 0.86910092 0.87616255 0.68095448]\n",
      "0.8276373640196087\n"
     ]
    }
   ],
   "source": [
    "#ridge regression\n",
    "ridge = Ridge()\n",
    "cv = cross_val_score(ridge,X_train,y_train)\n",
    "print(cv)\n",
    "print(np.mean(cv))"
   ]
  },
  {
   "cell_type": "code",
   "execution_count": 18,
   "id": "91ec14b8",
   "metadata": {
    "execution": {
     "iopub.execute_input": "2022-09-12T22:48:16.707731Z",
     "iopub.status.busy": "2022-09-12T22:48:16.706977Z",
     "iopub.status.idle": "2022-09-12T22:48:18.988571Z",
     "shell.execute_reply": "2022-09-12T22:48:18.986183Z"
    },
    "papermill": {
     "duration": 2.32655,
     "end_time": "2022-09-12T22:48:18.993032",
     "exception": false,
     "start_time": "2022-09-12T22:48:16.666482",
     "status": "completed"
    },
    "tags": []
   },
   "outputs": [
    {
     "name": "stderr",
     "output_type": "stream",
     "text": [
      "/opt/conda/lib/python3.7/site-packages/sklearn/linear_model/_coordinate_descent.py:648: ConvergenceWarning: Objective did not converge. You might want to increase the number of iterations, check the scale of the features or consider increasing regularisation. Duality gap: 2.398e+11, tolerance: 7.592e+08\n",
      "  coef_, l1_reg, l2_reg, X, y, max_iter, tol, rng, random, positive\n",
      "/opt/conda/lib/python3.7/site-packages/sklearn/linear_model/_coordinate_descent.py:648: ConvergenceWarning: Objective did not converge. You might want to increase the number of iterations, check the scale of the features or consider increasing regularisation. Duality gap: 2.067e+11, tolerance: 7.288e+08\n",
      "  coef_, l1_reg, l2_reg, X, y, max_iter, tol, rng, random, positive\n",
      "/opt/conda/lib/python3.7/site-packages/sklearn/linear_model/_coordinate_descent.py:648: ConvergenceWarning: Objective did not converge. You might want to increase the number of iterations, check the scale of the features or consider increasing regularisation. Duality gap: 1.867e+11, tolerance: 6.990e+08\n",
      "  coef_, l1_reg, l2_reg, X, y, max_iter, tol, rng, random, positive\n",
      "/opt/conda/lib/python3.7/site-packages/sklearn/linear_model/_coordinate_descent.py:648: ConvergenceWarning: Objective did not converge. You might want to increase the number of iterations, check the scale of the features or consider increasing regularisation. Duality gap: 2.443e+11, tolerance: 7.706e+08\n",
      "  coef_, l1_reg, l2_reg, X, y, max_iter, tol, rng, random, positive\n"
     ]
    },
    {
     "name": "stdout",
     "output_type": "stream",
     "text": [
      "[0.85947633 0.81885361 0.81373485 0.88872842 0.64532243]\n",
      "0.805223127996918\n"
     ]
    },
    {
     "name": "stderr",
     "output_type": "stream",
     "text": [
      "/opt/conda/lib/python3.7/site-packages/sklearn/linear_model/_coordinate_descent.py:648: ConvergenceWarning: Objective did not converge. You might want to increase the number of iterations, check the scale of the features or consider increasing regularisation. Duality gap: 1.923e+11, tolerance: 7.249e+08\n",
      "  coef_, l1_reg, l2_reg, X, y, max_iter, tol, rng, random, positive\n"
     ]
    }
   ],
   "source": [
    "#lasso regression\n",
    "lasso = Lasso()\n",
    "cv = cross_val_score(lasso,X_train,y_train)\n",
    "print(cv)\n",
    "print(np.mean(cv))"
   ]
  },
  {
   "cell_type": "code",
   "execution_count": 19,
   "id": "d0e58be9",
   "metadata": {
    "execution": {
     "iopub.execute_input": "2022-09-12T22:48:19.063393Z",
     "iopub.status.busy": "2022-09-12T22:48:19.062700Z",
     "iopub.status.idle": "2022-09-12T22:48:24.540694Z",
     "shell.execute_reply": "2022-09-12T22:48:24.539421Z"
    },
    "papermill": {
     "duration": 5.522656,
     "end_time": "2022-09-12T22:48:24.544414",
     "exception": false,
     "start_time": "2022-09-12T22:48:19.021758",
     "status": "completed"
    },
    "tags": []
   },
   "outputs": [
    {
     "name": "stdout",
     "output_type": "stream",
     "text": [
      "[0.85653569 0.82074884 0.85277911 0.89656454 0.87659978]\n",
      "0.8606455910255774\n"
     ]
    }
   ],
   "source": [
    "#XGBRegressor\n",
    "xgb = XGBRegressor()\n",
    "cv = cross_val_score(xgb,X_train,y_train)\n",
    "print(cv)\n",
    "print(np.mean(cv))"
   ]
  },
  {
   "cell_type": "markdown",
   "id": "eb5a25c7",
   "metadata": {
    "papermill": {
     "duration": 0.007908,
     "end_time": "2022-09-12T22:48:24.561926",
     "exception": false,
     "start_time": "2022-09-12T22:48:24.554018",
     "status": "completed"
    },
    "tags": []
   },
   "source": [
    "**To do:**\n",
    "\n",
    "Make dummies\n",
    "\n",
    "Do more feature engineering"
   ]
  },
  {
   "cell_type": "markdown",
   "id": "6ca3f7eb",
   "metadata": {
    "papermill": {
     "duration": 0.007162,
     "end_time": "2022-09-12T22:48:24.576539",
     "exception": false,
     "start_time": "2022-09-12T22:48:24.569377",
     "status": "completed"
    },
    "tags": []
   },
   "source": [
    "## Training Final Model"
   ]
  },
  {
   "cell_type": "code",
   "execution_count": 20,
   "id": "6fd7380c",
   "metadata": {
    "execution": {
     "iopub.execute_input": "2022-09-12T22:48:24.593014Z",
     "iopub.status.busy": "2022-09-12T22:48:24.592634Z",
     "iopub.status.idle": "2022-09-12T22:48:25.917321Z",
     "shell.execute_reply": "2022-09-12T22:48:25.916372Z"
    },
    "papermill": {
     "duration": 1.336799,
     "end_time": "2022-09-12T22:48:25.920737",
     "exception": false,
     "start_time": "2022-09-12T22:48:24.583938",
     "status": "completed"
    },
    "tags": []
   },
   "outputs": [],
   "source": [
    "xgb_final = XGBRegressor()\n",
    "xgb_final.fit(X_train,y_train)\n",
    "y_test = xgb_final.predict(X_test)"
   ]
  },
  {
   "cell_type": "code",
   "execution_count": 21,
   "id": "5a4158ff",
   "metadata": {
    "execution": {
     "iopub.execute_input": "2022-09-12T22:48:25.944966Z",
     "iopub.status.busy": "2022-09-12T22:48:25.944584Z",
     "iopub.status.idle": "2022-09-12T22:48:25.956721Z",
     "shell.execute_reply": "2022-09-12T22:48:25.955593Z"
    },
    "papermill": {
     "duration": 0.028335,
     "end_time": "2022-09-12T22:48:25.959221",
     "exception": false,
     "start_time": "2022-09-12T22:48:25.930886",
     "status": "completed"
    },
    "tags": []
   },
   "outputs": [],
   "source": [
    "final_data = {'Id': X_test['Id'], 'SalePrice': y_test}\n",
    "submission = pd.DataFrame(data=final_data)\n",
    "submission.to_csv('submission_xgb1.csv', index=False)"
   ]
  }
 ],
 "metadata": {
  "kernelspec": {
   "display_name": "Python 3",
   "language": "python",
   "name": "python3"
  },
  "language_info": {
   "codemirror_mode": {
    "name": "ipython",
    "version": 3
   },
   "file_extension": ".py",
   "mimetype": "text/x-python",
   "name": "python",
   "nbconvert_exporter": "python",
   "pygments_lexer": "ipython3",
   "version": "3.7.12"
  },
  "papermill": {
   "default_parameters": {},
   "duration": 22.415279,
   "end_time": "2022-09-12T22:48:26.688667",
   "environment_variables": {},
   "exception": null,
   "input_path": "__notebook__.ipynb",
   "output_path": "__notebook__.ipynb",
   "parameters": {},
   "start_time": "2022-09-12T22:48:04.273388",
   "version": "2.3.4"
  }
 },
 "nbformat": 4,
 "nbformat_minor": 5
}
