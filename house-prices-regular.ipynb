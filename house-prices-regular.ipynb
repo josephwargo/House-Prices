{
 "cells": [
  {
   "cell_type": "markdown",
   "id": "61a78e33",
   "metadata": {
    "papermill": {
     "duration": 0.011041,
     "end_time": "2022-09-20T22:19:36.783554",
     "exception": false,
     "start_time": "2022-09-20T22:19:36.772513",
     "status": "completed"
    },
    "tags": []
   },
   "source": [
    "## Importing:"
   ]
  },
  {
   "cell_type": "code",
   "execution_count": 1,
   "id": "93fe377a",
   "metadata": {
    "execution": {
     "iopub.execute_input": "2022-09-20T22:19:36.805993Z",
     "iopub.status.busy": "2022-09-20T22:19:36.804893Z",
     "iopub.status.idle": "2022-09-20T22:19:37.920102Z",
     "shell.execute_reply": "2022-09-20T22:19:37.918255Z"
    },
    "papermill": {
     "duration": 1.129858,
     "end_time": "2022-09-20T22:19:37.923157",
     "exception": false,
     "start_time": "2022-09-20T22:19:36.793299",
     "status": "completed"
    },
    "tags": []
   },
   "outputs": [
    {
     "name": "stdout",
     "output_type": "stream",
     "text": [
      "/kaggle/input/house-prices-advanced-regression-techniques/sample_submission.csv\n",
      "/kaggle/input/house-prices-advanced-regression-techniques/data_description.txt\n",
      "/kaggle/input/house-prices-advanced-regression-techniques/train.csv\n",
      "/kaggle/input/house-prices-advanced-regression-techniques/test.csv\n"
     ]
    }
   ],
   "source": [
    "import numpy as np # linear algebra\n",
    "import pandas as pd # data processing, CSV file I/O (e.g. pd.read_csv)\n",
    "import matplotlib.pyplot as plt #graphing\n",
    "import matplotlib.patches as mpatches #style\n",
    "import seaborn as sns #advanced graphing\n",
    "import scipy as sp #math stuff\n",
    "%matplotlib inline\n",
    "pd.options.display.max_rows=300\n",
    "\n",
    "import os\n",
    "for dirname, _, filenames in os.walk('/kaggle/input'):\n",
    "    for filename in filenames:\n",
    "        print(os.path.join(dirname, filename))"
   ]
  },
  {
   "cell_type": "code",
   "execution_count": 2,
   "id": "c7fe441b",
   "metadata": {
    "execution": {
     "iopub.execute_input": "2022-09-20T22:19:37.945059Z",
     "iopub.status.busy": "2022-09-20T22:19:37.944644Z",
     "iopub.status.idle": "2022-09-20T22:19:38.047793Z",
     "shell.execute_reply": "2022-09-20T22:19:38.046523Z"
    },
    "papermill": {
     "duration": 0.117524,
     "end_time": "2022-09-20T22:19:38.050744",
     "exception": false,
     "start_time": "2022-09-20T22:19:37.933220",
     "status": "completed"
    },
    "tags": []
   },
   "outputs": [],
   "source": [
    "#importing csvs\n",
    "train = pd.read_csv('/kaggle/input/house-prices-advanced-regression-techniques/train.csv')\n",
    "test = pd.read_csv('/kaggle/input/house-prices-advanced-regression-techniques/test.csv')\n",
    "train['train_test'] = 1\n",
    "test['train_test'] = 0\n",
    "all_data = pd.concat([train,test])\n",
    "all_data.set_index('Id',inplace=True)"
   ]
  },
  {
   "cell_type": "markdown",
   "id": "002a9d5f",
   "metadata": {
    "papermill": {
     "duration": 0.00932,
     "end_time": "2022-09-20T22:19:38.070089",
     "exception": false,
     "start_time": "2022-09-20T22:19:38.060769",
     "status": "completed"
    },
    "tags": []
   },
   "source": [
    "## Discovering:"
   ]
  },
  {
   "cell_type": "code",
   "execution_count": 3,
   "id": "48db13f6",
   "metadata": {
    "execution": {
     "iopub.execute_input": "2022-09-20T22:19:38.093269Z",
     "iopub.status.busy": "2022-09-20T22:19:38.092871Z",
     "iopub.status.idle": "2022-09-20T22:19:38.132424Z",
     "shell.execute_reply": "2022-09-20T22:19:38.130530Z"
    },
    "papermill": {
     "duration": 0.054591,
     "end_time": "2022-09-20T22:19:38.135861",
     "exception": false,
     "start_time": "2022-09-20T22:19:38.081270",
     "status": "completed"
    },
    "tags": []
   },
   "outputs": [
    {
     "name": "stdout",
     "output_type": "stream",
     "text": [
      "<class 'pandas.core.frame.DataFrame'>\n",
      "Int64Index: 2919 entries, 1 to 2919\n",
      "Data columns (total 81 columns):\n",
      " #   Column         Non-Null Count  Dtype  \n",
      "---  ------         --------------  -----  \n",
      " 0   MSSubClass     2919 non-null   int64  \n",
      " 1   MSZoning       2915 non-null   object \n",
      " 2   LotFrontage    2433 non-null   float64\n",
      " 3   LotArea        2919 non-null   int64  \n",
      " 4   Street         2919 non-null   object \n",
      " 5   Alley          198 non-null    object \n",
      " 6   LotShape       2919 non-null   object \n",
      " 7   LandContour    2919 non-null   object \n",
      " 8   Utilities      2917 non-null   object \n",
      " 9   LotConfig      2919 non-null   object \n",
      " 10  LandSlope      2919 non-null   object \n",
      " 11  Neighborhood   2919 non-null   object \n",
      " 12  Condition1     2919 non-null   object \n",
      " 13  Condition2     2919 non-null   object \n",
      " 14  BldgType       2919 non-null   object \n",
      " 15  HouseStyle     2919 non-null   object \n",
      " 16  OverallQual    2919 non-null   int64  \n",
      " 17  OverallCond    2919 non-null   int64  \n",
      " 18  YearBuilt      2919 non-null   int64  \n",
      " 19  YearRemodAdd   2919 non-null   int64  \n",
      " 20  RoofStyle      2919 non-null   object \n",
      " 21  RoofMatl       2919 non-null   object \n",
      " 22  Exterior1st    2918 non-null   object \n",
      " 23  Exterior2nd    2918 non-null   object \n",
      " 24  MasVnrType     2895 non-null   object \n",
      " 25  MasVnrArea     2896 non-null   float64\n",
      " 26  ExterQual      2919 non-null   object \n",
      " 27  ExterCond      2919 non-null   object \n",
      " 28  Foundation     2919 non-null   object \n",
      " 29  BsmtQual       2838 non-null   object \n",
      " 30  BsmtCond       2837 non-null   object \n",
      " 31  BsmtExposure   2837 non-null   object \n",
      " 32  BsmtFinType1   2840 non-null   object \n",
      " 33  BsmtFinSF1     2918 non-null   float64\n",
      " 34  BsmtFinType2   2839 non-null   object \n",
      " 35  BsmtFinSF2     2918 non-null   float64\n",
      " 36  BsmtUnfSF      2918 non-null   float64\n",
      " 37  TotalBsmtSF    2918 non-null   float64\n",
      " 38  Heating        2919 non-null   object \n",
      " 39  HeatingQC      2919 non-null   object \n",
      " 40  CentralAir     2919 non-null   object \n",
      " 41  Electrical     2918 non-null   object \n",
      " 42  1stFlrSF       2919 non-null   int64  \n",
      " 43  2ndFlrSF       2919 non-null   int64  \n",
      " 44  LowQualFinSF   2919 non-null   int64  \n",
      " 45  GrLivArea      2919 non-null   int64  \n",
      " 46  BsmtFullBath   2917 non-null   float64\n",
      " 47  BsmtHalfBath   2917 non-null   float64\n",
      " 48  FullBath       2919 non-null   int64  \n",
      " 49  HalfBath       2919 non-null   int64  \n",
      " 50  BedroomAbvGr   2919 non-null   int64  \n",
      " 51  KitchenAbvGr   2919 non-null   int64  \n",
      " 52  KitchenQual    2918 non-null   object \n",
      " 53  TotRmsAbvGrd   2919 non-null   int64  \n",
      " 54  Functional     2917 non-null   object \n",
      " 55  Fireplaces     2919 non-null   int64  \n",
      " 56  FireplaceQu    1499 non-null   object \n",
      " 57  GarageType     2762 non-null   object \n",
      " 58  GarageYrBlt    2760 non-null   float64\n",
      " 59  GarageFinish   2760 non-null   object \n",
      " 60  GarageCars     2918 non-null   float64\n",
      " 61  GarageArea     2918 non-null   float64\n",
      " 62  GarageQual     2760 non-null   object \n",
      " 63  GarageCond     2760 non-null   object \n",
      " 64  PavedDrive     2919 non-null   object \n",
      " 65  WoodDeckSF     2919 non-null   int64  \n",
      " 66  OpenPorchSF    2919 non-null   int64  \n",
      " 67  EnclosedPorch  2919 non-null   int64  \n",
      " 68  3SsnPorch      2919 non-null   int64  \n",
      " 69  ScreenPorch    2919 non-null   int64  \n",
      " 70  PoolArea       2919 non-null   int64  \n",
      " 71  PoolQC         10 non-null     object \n",
      " 72  Fence          571 non-null    object \n",
      " 73  MiscFeature    105 non-null    object \n",
      " 74  MiscVal        2919 non-null   int64  \n",
      " 75  MoSold         2919 non-null   int64  \n",
      " 76  YrSold         2919 non-null   int64  \n",
      " 77  SaleType       2918 non-null   object \n",
      " 78  SaleCondition  2919 non-null   object \n",
      " 79  SalePrice      1460 non-null   float64\n",
      " 80  train_test     2919 non-null   int64  \n",
      "dtypes: float64(12), int64(26), object(43)\n",
      "memory usage: 1.8+ MB\n"
     ]
    }
   ],
   "source": [
    "#getting a general idea of variable types\n",
    "all_data.info()"
   ]
  },
  {
   "cell_type": "code",
   "execution_count": 4,
   "id": "31dbcadd",
   "metadata": {
    "execution": {
     "iopub.execute_input": "2022-09-20T22:19:38.159600Z",
     "iopub.status.busy": "2022-09-20T22:19:38.158953Z",
     "iopub.status.idle": "2022-09-20T22:19:38.168337Z",
     "shell.execute_reply": "2022-09-20T22:19:38.167003Z"
    },
    "papermill": {
     "duration": 0.023585,
     "end_time": "2022-09-20T22:19:38.170740",
     "exception": false,
     "start_time": "2022-09-20T22:19:38.147155",
     "status": "completed"
    },
    "tags": []
   },
   "outputs": [],
   "source": [
    "#seperating variables in to quantitative and qualitative\n",
    "qual_vars = []\n",
    "quant_vars = []\n",
    "for column in all_data.columns:\n",
    "    if all_data[column].dtype == 'object':\n",
    "        qual_vars.append(column)\n",
    "    else:\n",
    "        quant_vars.append(column)\n",
    "quant_vars.remove('SalePrice')\n",
    "quant_vars.remove('MSSubClass')\n",
    "qual_vars.append('MSSubClass')\n",
    "quant_vars.remove('YearBuilt')\n",
    "qual_vars.append('YearBuilt')\n",
    "quant_vars.remove('YearRemodAdd')\n",
    "qual_vars.append('YearRemodAdd')\n",
    "quant_vars.remove('GarageYrBlt')\n",
    "qual_vars.append('GarageYrBlt')\n",
    "quant_vars.remove('MoSold')\n",
    "qual_vars.append('MoSold')\n",
    "quant_vars.remove('YrSold')\n",
    "qual_vars.append('YrSold')"
   ]
  },
  {
   "cell_type": "code",
   "execution_count": 5,
   "id": "3131e1b2",
   "metadata": {
    "execution": {
     "iopub.execute_input": "2022-09-20T22:19:38.192336Z",
     "iopub.status.busy": "2022-09-20T22:19:38.191908Z",
     "iopub.status.idle": "2022-09-20T22:19:38.205994Z",
     "shell.execute_reply": "2022-09-20T22:19:38.204802Z"
    },
    "papermill": {
     "duration": 0.027534,
     "end_time": "2022-09-20T22:19:38.208317",
     "exception": false,
     "start_time": "2022-09-20T22:19:38.180783",
     "status": "completed"
    },
    "tags": []
   },
   "outputs": [
    {
     "data": {
      "text/plain": [
       "LotFrontage      259\n",
       "LotArea            0\n",
       "OverallQual        0\n",
       "OverallCond        0\n",
       "MasVnrArea         8\n",
       "BsmtFinSF1         0\n",
       "BsmtFinSF2         0\n",
       "BsmtUnfSF          0\n",
       "TotalBsmtSF        0\n",
       "1stFlrSF           0\n",
       "2ndFlrSF           0\n",
       "LowQualFinSF       0\n",
       "GrLivArea          0\n",
       "BsmtFullBath       0\n",
       "BsmtHalfBath       0\n",
       "FullBath           0\n",
       "HalfBath           0\n",
       "BedroomAbvGr       0\n",
       "KitchenAbvGr       0\n",
       "TotRmsAbvGrd       0\n",
       "Fireplaces         0\n",
       "GarageCars         0\n",
       "GarageArea         0\n",
       "WoodDeckSF         0\n",
       "OpenPorchSF        0\n",
       "EnclosedPorch      0\n",
       "3SsnPorch          0\n",
       "ScreenPorch        0\n",
       "PoolArea           0\n",
       "MiscVal            0\n",
       "train_test         0\n",
       "dtype: int64"
      ]
     },
     "execution_count": 5,
     "metadata": {},
     "output_type": "execute_result"
    }
   ],
   "source": [
    "train[quant_vars].isna().sum()"
   ]
  },
  {
   "cell_type": "code",
   "execution_count": 6,
   "id": "9746206b",
   "metadata": {
    "execution": {
     "iopub.execute_input": "2022-09-20T22:19:38.230527Z",
     "iopub.status.busy": "2022-09-20T22:19:38.230064Z",
     "iopub.status.idle": "2022-09-20T22:19:38.246026Z",
     "shell.execute_reply": "2022-09-20T22:19:38.244622Z"
    },
    "papermill": {
     "duration": 0.031307,
     "end_time": "2022-09-20T22:19:38.249819",
     "exception": false,
     "start_time": "2022-09-20T22:19:38.218512",
     "status": "completed"
    },
    "tags": []
   },
   "outputs": [
    {
     "name": "stdout",
     "output_type": "stream",
     "text": [
      "60.0     143\n",
      "70.0      70\n",
      "80.0      69\n",
      "50.0      57\n",
      "75.0      53\n",
      "65.0      44\n",
      "85.0      40\n",
      "78.0      25\n",
      "21.0      23\n",
      "90.0      23\n",
      "68.0      19\n",
      "64.0      19\n",
      "24.0      19\n",
      "73.0      18\n",
      "55.0      17\n",
      "63.0      17\n",
      "79.0      17\n",
      "72.0      17\n",
      "100.0     16\n",
      "66.0      15\n",
      "74.0      15\n",
      "51.0      15\n",
      "52.0      14\n",
      "59.0      13\n",
      "82.0      12\n",
      "71.0      12\n",
      "67.0      12\n",
      "43.0      12\n",
      "40.0      12\n",
      "57.0      12\n",
      "76.0      11\n",
      "69.0      11\n",
      "92.0      10\n",
      "34.0      10\n",
      "53.0      10\n",
      "86.0      10\n",
      "88.0      10\n",
      "84.0       9\n",
      "35.0       9\n",
      "62.0       9\n",
      "44.0       9\n",
      "77.0       9\n",
      "93.0       8\n",
      "98.0       8\n",
      "96.0       8\n",
      "61.0       8\n",
      "95.0       7\n",
      "58.0       7\n",
      "120.0      7\n",
      "107.0      7\n",
      "94.0       6\n",
      "81.0       6\n",
      "36.0       6\n",
      "30.0       6\n",
      "48.0       6\n",
      "91.0       6\n",
      "41.0       6\n",
      "54.0       6\n",
      "89.0       6\n",
      "110.0      6\n",
      "105.0      6\n",
      "32.0       5\n",
      "47.0       5\n",
      "87.0       5\n",
      "56.0       5\n",
      "37.0       5\n",
      "83.0       5\n",
      "102.0      4\n",
      "42.0       4\n",
      "49.0       4\n",
      "104.0      3\n",
      "103.0      3\n",
      "99.0       3\n",
      "45.0       3\n",
      "108.0      3\n",
      "130.0      3\n",
      "124.0      2\n",
      "114.0      2\n",
      "109.0      2\n",
      "313.0      2\n",
      "134.0      2\n",
      "115.0      2\n",
      "121.0      2\n",
      "116.0      2\n",
      "118.0      2\n",
      "129.0      2\n",
      "101.0      2\n",
      "174.0      2\n",
      "97.0       2\n",
      "122.0      2\n",
      "112.0      1\n",
      "168.0      1\n",
      "182.0      1\n",
      "111.0      1\n",
      "138.0      1\n",
      "160.0      1\n",
      "149.0      1\n",
      "153.0      1\n",
      "152.0      1\n",
      "33.0       1\n",
      "128.0      1\n",
      "144.0      1\n",
      "39.0       1\n",
      "150.0      1\n",
      "106.0      1\n",
      "137.0      1\n",
      "141.0      1\n",
      "38.0       1\n",
      "140.0      1\n",
      "46.0       1\n",
      "Name: LotFrontage, dtype: int64\n"
     ]
    }
   ],
   "source": [
    "#ensuring that null values for LotFrontage should be 0\n",
    "print(train['LotFrontage'].value_counts())\n",
    "train['LotFrontage'].fillna(0,inplace=True)"
   ]
  },
  {
   "cell_type": "code",
   "execution_count": 7,
   "id": "d7813cc8",
   "metadata": {
    "execution": {
     "iopub.execute_input": "2022-09-20T22:19:38.272867Z",
     "iopub.status.busy": "2022-09-20T22:19:38.271931Z",
     "iopub.status.idle": "2022-09-20T22:19:38.281798Z",
     "shell.execute_reply": "2022-09-20T22:19:38.280295Z"
    },
    "papermill": {
     "duration": 0.024245,
     "end_time": "2022-09-20T22:19:38.284327",
     "exception": false,
     "start_time": "2022-09-20T22:19:38.260082",
     "status": "completed"
    },
    "tags": []
   },
   "outputs": [
    {
     "name": "stdout",
     "output_type": "stream",
     "text": [
      "234     NaN\n",
      "529     NaN\n",
      "650     NaN\n",
      "936     NaN\n",
      "973     NaN\n",
      "977     NaN\n",
      "1243    NaN\n",
      "1278    NaN\n",
      "Name: MasVnrType, dtype: object\n"
     ]
    }
   ],
   "source": [
    "#ensuring that null values for MasVnrArea means there is no MasVnr\n",
    "print(train[train['MasVnrArea'].isna()]['MasVnrType'])\n",
    "train['MasVnrArea'].fillna(0,inplace=True)"
   ]
  },
  {
   "cell_type": "code",
   "execution_count": 8,
   "id": "10d7bde6",
   "metadata": {
    "execution": {
     "iopub.execute_input": "2022-09-20T22:19:38.307181Z",
     "iopub.status.busy": "2022-09-20T22:19:38.306769Z",
     "iopub.status.idle": "2022-09-20T22:19:38.319089Z",
     "shell.execute_reply": "2022-09-20T22:19:38.317790Z"
    },
    "papermill": {
     "duration": 0.02717,
     "end_time": "2022-09-20T22:19:38.321727",
     "exception": false,
     "start_time": "2022-09-20T22:19:38.294557",
     "status": "completed"
    },
    "tags": []
   },
   "outputs": [
    {
     "data": {
      "text/plain": [
       "LotFrontage      227\n",
       "LotArea            0\n",
       "OverallQual        0\n",
       "OverallCond        0\n",
       "MasVnrArea        15\n",
       "BsmtFinSF1         1\n",
       "BsmtFinSF2         1\n",
       "BsmtUnfSF          1\n",
       "TotalBsmtSF        1\n",
       "1stFlrSF           0\n",
       "2ndFlrSF           0\n",
       "LowQualFinSF       0\n",
       "GrLivArea          0\n",
       "BsmtFullBath       2\n",
       "BsmtHalfBath       2\n",
       "FullBath           0\n",
       "HalfBath           0\n",
       "BedroomAbvGr       0\n",
       "KitchenAbvGr       0\n",
       "TotRmsAbvGrd       0\n",
       "Fireplaces         0\n",
       "GarageCars         1\n",
       "GarageArea         1\n",
       "WoodDeckSF         0\n",
       "OpenPorchSF        0\n",
       "EnclosedPorch      0\n",
       "3SsnPorch          0\n",
       "ScreenPorch        0\n",
       "PoolArea           0\n",
       "MiscVal            0\n",
       "train_test         0\n",
       "dtype: int64"
      ]
     },
     "execution_count": 8,
     "metadata": {},
     "output_type": "execute_result"
    }
   ],
   "source": [
    "test[quant_vars].isna().sum()"
   ]
  },
  {
   "cell_type": "code",
   "execution_count": 9,
   "id": "8a53fec2",
   "metadata": {
    "execution": {
     "iopub.execute_input": "2022-09-20T22:19:38.344110Z",
     "iopub.status.busy": "2022-09-20T22:19:38.343699Z",
     "iopub.status.idle": "2022-09-20T22:19:38.357600Z",
     "shell.execute_reply": "2022-09-20T22:19:38.356209Z"
    },
    "papermill": {
     "duration": 0.029683,
     "end_time": "2022-09-20T22:19:38.361723",
     "exception": false,
     "start_time": "2022-09-20T22:19:38.332040",
     "status": "completed"
    },
    "tags": []
   },
   "outputs": [
    {
     "name": "stdout",
     "output_type": "stream",
     "text": [
      "60.0     133\n",
      "80.0      68\n",
      "70.0      63\n",
      "50.0      60\n",
      "75.0      52\n",
      "65.0      49\n",
      "85.0      36\n",
      "24.0      30\n",
      "63.0      30\n",
      "21.0      27\n",
      "68.0      25\n",
      "64.0      24\n",
      "74.0      24\n",
      "90.0      23\n",
      "72.0      22\n",
      "62.0      22\n",
      "78.0      21\n",
      "82.0      16\n",
      "73.0      15\n",
      "52.0      14\n",
      "57.0      14\n",
      "53.0      14\n",
      "56.0      14\n",
      "76.0      14\n",
      "59.0      14\n",
      "100.0     12\n",
      "88.0      12\n",
      "51.0      12\n",
      "81.0      12\n",
      "79.0      11\n",
      "43.0      11\n",
      "66.0      11\n",
      "35.0      10\n",
      "44.0      10\n",
      "58.0      10\n",
      "48.0      10\n",
      "67.0      10\n",
      "84.0       9\n",
      "61.0       9\n",
      "110.0      9\n",
      "69.0       9\n",
      "91.0       8\n",
      "95.0       8\n",
      "42.0       8\n",
      "41.0       8\n",
      "83.0       8\n",
      "45.0       7\n",
      "71.0       7\n",
      "120.0      7\n",
      "55.0       7\n",
      "94.0       6\n",
      "96.0       6\n",
      "77.0       6\n",
      "105.0      6\n",
      "102.0      6\n",
      "87.0       6\n",
      "34.0       6\n",
      "92.0       5\n",
      "39.0       5\n",
      "30.0       5\n",
      "93.0       5\n",
      "86.0       5\n",
      "107.0      4\n",
      "54.0       4\n",
      "40.0       4\n",
      "89.0       4\n",
      "98.0       4\n",
      "103.0      3\n",
      "108.0      3\n",
      "97.0       3\n",
      "125.0      3\n",
      "113.0      3\n",
      "26.0       3\n",
      "38.0       3\n",
      "32.0       3\n",
      "112.0      3\n",
      "106.0      3\n",
      "114.0      3\n",
      "99.0       3\n",
      "47.0       3\n",
      "36.0       2\n",
      "37.0       2\n",
      "46.0       2\n",
      "124.0      2\n",
      "128.0      2\n",
      "130.0      2\n",
      "160.0      2\n",
      "109.0      2\n",
      "33.0       2\n",
      "118.0      2\n",
      "129.0      2\n",
      "104.0      2\n",
      "133.0      1\n",
      "134.0      1\n",
      "131.0      1\n",
      "155.0      1\n",
      "126.0      1\n",
      "49.0       1\n",
      "200.0      1\n",
      "121.0      1\n",
      "149.0      1\n",
      "28.0       1\n",
      "195.0      1\n",
      "150.0      1\n",
      "123.0      1\n",
      "22.0       1\n",
      "136.0      1\n",
      "135.0      1\n",
      "101.0      1\n",
      "115.0      1\n",
      "117.0      1\n",
      "31.0       1\n",
      "119.0      1\n",
      "25.0       1\n",
      "140.0      1\n",
      "Name: LotFrontage, dtype: int64\n"
     ]
    }
   ],
   "source": [
    "#ensuring that null values for LotFrontage should be 0\n",
    "print(test['LotFrontage'].value_counts())\n",
    "test['LotFrontage'].fillna(0,inplace=True)"
   ]
  },
  {
   "cell_type": "code",
   "execution_count": 10,
   "id": "fedf7015",
   "metadata": {
    "execution": {
     "iopub.execute_input": "2022-09-20T22:19:38.385947Z",
     "iopub.status.busy": "2022-09-20T22:19:38.385517Z",
     "iopub.status.idle": "2022-09-20T22:19:38.398042Z",
     "shell.execute_reply": "2022-09-20T22:19:38.395900Z"
    },
    "papermill": {
     "duration": 0.02941,
     "end_time": "2022-09-20T22:19:38.401987",
     "exception": false,
     "start_time": "2022-09-20T22:19:38.372577",
     "status": "completed"
    },
    "tags": []
   },
   "outputs": [
    {
     "name": "stdout",
     "output_type": "stream",
     "text": [
      "231     NaN\n",
      "246     NaN\n",
      "422     NaN\n",
      "532     NaN\n",
      "544     NaN\n",
      "581     NaN\n",
      "851     NaN\n",
      "865     NaN\n",
      "880     NaN\n",
      "889     NaN\n",
      "908     NaN\n",
      "1132    NaN\n",
      "1197    NaN\n",
      "1226    NaN\n",
      "1402    NaN\n",
      "Name: MasVnrType, dtype: object\n"
     ]
    }
   ],
   "source": [
    "#ensuring that null values for MasVnrArea means there is no MasVnr\n",
    "print(test[test['MasVnrArea'].isna()]['MasVnrType'])\n",
    "test['MasVnrArea'].fillna(0,inplace=True)"
   ]
  },
  {
   "cell_type": "code",
   "execution_count": 11,
   "id": "920fb442",
   "metadata": {
    "execution": {
     "iopub.execute_input": "2022-09-20T22:19:38.426651Z",
     "iopub.status.busy": "2022-09-20T22:19:38.426223Z",
     "iopub.status.idle": "2022-09-20T22:19:38.434454Z",
     "shell.execute_reply": "2022-09-20T22:19:38.433085Z"
    },
    "papermill": {
     "duration": 0.022912,
     "end_time": "2022-09-20T22:19:38.436981",
     "exception": false,
     "start_time": "2022-09-20T22:19:38.414069",
     "status": "completed"
    },
    "tags": []
   },
   "outputs": [
    {
     "name": "stdout",
     "output_type": "stream",
     "text": [
      "660    NaN\n",
      "Name: BsmtFinType1, dtype: object\n"
     ]
    }
   ],
   "source": [
    "#ensuring that null values for BsmtFinSF1 should be 0\n",
    "print(test[test['BsmtFinSF1'].isna()]['BsmtFinType1'])\n",
    "test['BsmtFinSF1'].fillna(0,inplace=True)"
   ]
  },
  {
   "cell_type": "code",
   "execution_count": 12,
   "id": "4db7671c",
   "metadata": {
    "execution": {
     "iopub.execute_input": "2022-09-20T22:19:38.460686Z",
     "iopub.status.busy": "2022-09-20T22:19:38.460207Z",
     "iopub.status.idle": "2022-09-20T22:19:38.469400Z",
     "shell.execute_reply": "2022-09-20T22:19:38.467826Z"
    },
    "papermill": {
     "duration": 0.025039,
     "end_time": "2022-09-20T22:19:38.472844",
     "exception": false,
     "start_time": "2022-09-20T22:19:38.447805",
     "status": "completed"
    },
    "tags": []
   },
   "outputs": [
    {
     "name": "stdout",
     "output_type": "stream",
     "text": [
      "660    NaN\n",
      "Name: BsmtFinType2, dtype: object\n"
     ]
    }
   ],
   "source": [
    "#ensuring that null values for BsmtFinSF2 should be 0\n",
    "print(test[test['BsmtFinSF2'].isna()]['BsmtFinType2'])\n",
    "test['BsmtFinSF2'].fillna(0,inplace=True)"
   ]
  },
  {
   "cell_type": "code",
   "execution_count": 13,
   "id": "e2e8b6ab",
   "metadata": {
    "execution": {
     "iopub.execute_input": "2022-09-20T22:19:38.497796Z",
     "iopub.status.busy": "2022-09-20T22:19:38.497336Z",
     "iopub.status.idle": "2022-09-20T22:19:38.507809Z",
     "shell.execute_reply": "2022-09-20T22:19:38.505874Z"
    },
    "papermill": {
     "duration": 0.025616,
     "end_time": "2022-09-20T22:19:38.510480",
     "exception": false,
     "start_time": "2022-09-20T22:19:38.484864",
     "status": "completed"
    },
    "tags": []
   },
   "outputs": [
    {
     "name": "stdout",
     "output_type": "stream",
     "text": [
      "660    NaN\n",
      "Name: BsmtQual, dtype: object\n"
     ]
    }
   ],
   "source": [
    "#ensuring that null values for BsmtUnfSF should be 0\n",
    "print(test[test['BsmtUnfSF'].isna()]['BsmtQual'])\n",
    "test['BsmtUnfSF'].fillna(0,inplace=True)"
   ]
  },
  {
   "cell_type": "code",
   "execution_count": 14,
   "id": "6a58fd84",
   "metadata": {
    "execution": {
     "iopub.execute_input": "2022-09-20T22:19:38.535014Z",
     "iopub.status.busy": "2022-09-20T22:19:38.533943Z",
     "iopub.status.idle": "2022-09-20T22:19:38.542158Z",
     "shell.execute_reply": "2022-09-20T22:19:38.541202Z"
    },
    "papermill": {
     "duration": 0.023904,
     "end_time": "2022-09-20T22:19:38.545537",
     "exception": false,
     "start_time": "2022-09-20T22:19:38.521633",
     "status": "completed"
    },
    "tags": []
   },
   "outputs": [
    {
     "name": "stdout",
     "output_type": "stream",
     "text": [
      "660    NaN\n",
      "Name: BsmtQual, dtype: object\n"
     ]
    }
   ],
   "source": [
    "#ensuring that null values for TotalBsmtSF should be 0\n",
    "print(test[test['TotalBsmtSF'].isna()]['BsmtQual'])\n",
    "test['TotalBsmtSF'].fillna(0,inplace=True)"
   ]
  },
  {
   "cell_type": "code",
   "execution_count": 15,
   "id": "c9bfb4dd",
   "metadata": {
    "execution": {
     "iopub.execute_input": "2022-09-20T22:19:38.570706Z",
     "iopub.status.busy": "2022-09-20T22:19:38.570252Z",
     "iopub.status.idle": "2022-09-20T22:19:38.578312Z",
     "shell.execute_reply": "2022-09-20T22:19:38.577289Z"
    },
    "papermill": {
     "duration": 0.023242,
     "end_time": "2022-09-20T22:19:38.580994",
     "exception": false,
     "start_time": "2022-09-20T22:19:38.557752",
     "status": "completed"
    },
    "tags": []
   },
   "outputs": [
    {
     "name": "stdout",
     "output_type": "stream",
     "text": [
      "660    NaN\n",
      "728    NaN\n",
      "Name: BsmtQual, dtype: object\n"
     ]
    }
   ],
   "source": [
    "#ensuring that null values for BsmtFullBath should be 0\n",
    "print(test[test['BsmtFullBath'].isna()]['BsmtQual'])\n",
    "test['BsmtFullBath'].fillna(0,inplace=True)"
   ]
  },
  {
   "cell_type": "code",
   "execution_count": 16,
   "id": "c3d18d8b",
   "metadata": {
    "execution": {
     "iopub.execute_input": "2022-09-20T22:19:38.604614Z",
     "iopub.status.busy": "2022-09-20T22:19:38.604020Z",
     "iopub.status.idle": "2022-09-20T22:19:38.613169Z",
     "shell.execute_reply": "2022-09-20T22:19:38.611758Z"
    },
    "papermill": {
     "duration": 0.023757,
     "end_time": "2022-09-20T22:19:38.615563",
     "exception": false,
     "start_time": "2022-09-20T22:19:38.591806",
     "status": "completed"
    },
    "tags": []
   },
   "outputs": [
    {
     "name": "stdout",
     "output_type": "stream",
     "text": [
      "660    NaN\n",
      "728    NaN\n",
      "Name: BsmtQual, dtype: object\n"
     ]
    }
   ],
   "source": [
    "#ensuring that null values for BsmtHalfBath should be 0\n",
    "print(test[test['BsmtHalfBath'].isna()]['BsmtQual'])\n",
    "test['BsmtHalfBath'].fillna(0,inplace=True)"
   ]
  },
  {
   "cell_type": "code",
   "execution_count": 17,
   "id": "30dbdf85",
   "metadata": {
    "execution": {
     "iopub.execute_input": "2022-09-20T22:19:38.638823Z",
     "iopub.status.busy": "2022-09-20T22:19:38.638397Z",
     "iopub.status.idle": "2022-09-20T22:19:38.647244Z",
     "shell.execute_reply": "2022-09-20T22:19:38.645928Z"
    },
    "papermill": {
     "duration": 0.024357,
     "end_time": "2022-09-20T22:19:38.650671",
     "exception": false,
     "start_time": "2022-09-20T22:19:38.626314",
     "status": "completed"
    },
    "tags": []
   },
   "outputs": [
    {
     "name": "stdout",
     "output_type": "stream",
     "text": [
      "1116    NaN\n",
      "Name: GarageQual, dtype: object\n"
     ]
    }
   ],
   "source": [
    "#ensuring that null values for GarageCars should be 0\n",
    "print(test[test['GarageCars'].isna()]['GarageQual'])\n",
    "test['GarageCars'].fillna(0,inplace=True)"
   ]
  },
  {
   "cell_type": "code",
   "execution_count": 18,
   "id": "8dc26ac4",
   "metadata": {
    "execution": {
     "iopub.execute_input": "2022-09-20T22:19:38.674288Z",
     "iopub.status.busy": "2022-09-20T22:19:38.673894Z",
     "iopub.status.idle": "2022-09-20T22:19:38.684039Z",
     "shell.execute_reply": "2022-09-20T22:19:38.682525Z"
    },
    "papermill": {
     "duration": 0.027288,
     "end_time": "2022-09-20T22:19:38.688866",
     "exception": false,
     "start_time": "2022-09-20T22:19:38.661578",
     "status": "completed"
    },
    "tags": []
   },
   "outputs": [
    {
     "name": "stdout",
     "output_type": "stream",
     "text": [
      "1116    NaN\n",
      "Name: GarageQual, dtype: object\n"
     ]
    }
   ],
   "source": [
    "#ensuring that null values for GarageArea should be 0\n",
    "print(test[test['GarageArea'].isna()]['GarageQual'])\n",
    "test['GarageArea'].fillna(0,inplace=True)"
   ]
  },
  {
   "cell_type": "code",
   "execution_count": 19,
   "id": "6751166a",
   "metadata": {
    "execution": {
     "iopub.execute_input": "2022-09-20T22:19:38.713920Z",
     "iopub.status.busy": "2022-09-20T22:19:38.713483Z",
     "iopub.status.idle": "2022-09-20T22:19:38.732395Z",
     "shell.execute_reply": "2022-09-20T22:19:38.731124Z"
    },
    "papermill": {
     "duration": 0.034362,
     "end_time": "2022-09-20T22:19:38.735152",
     "exception": false,
     "start_time": "2022-09-20T22:19:38.700790",
     "status": "completed"
    },
    "tags": []
   },
   "outputs": [
    {
     "data": {
      "text/plain": [
       "MSZoning          object\n",
       "Street            object\n",
       "Alley             object\n",
       "LotShape          object\n",
       "LandContour       object\n",
       "Utilities         object\n",
       "LotConfig         object\n",
       "LandSlope         object\n",
       "Neighborhood      object\n",
       "Condition1        object\n",
       "Condition2        object\n",
       "BldgType          object\n",
       "HouseStyle        object\n",
       "RoofStyle         object\n",
       "RoofMatl          object\n",
       "Exterior1st       object\n",
       "Exterior2nd       object\n",
       "MasVnrType        object\n",
       "ExterQual         object\n",
       "ExterCond         object\n",
       "Foundation        object\n",
       "BsmtQual          object\n",
       "BsmtCond          object\n",
       "BsmtExposure      object\n",
       "BsmtFinType1      object\n",
       "BsmtFinType2      object\n",
       "Heating           object\n",
       "HeatingQC         object\n",
       "CentralAir        object\n",
       "Electrical        object\n",
       "KitchenQual       object\n",
       "Functional        object\n",
       "FireplaceQu       object\n",
       "GarageType        object\n",
       "GarageFinish      object\n",
       "GarageQual        object\n",
       "GarageCond        object\n",
       "PavedDrive        object\n",
       "PoolQC            object\n",
       "Fence             object\n",
       "MiscFeature       object\n",
       "SaleType          object\n",
       "SaleCondition     object\n",
       "MSSubClass         int64\n",
       "YearBuilt          int64\n",
       "YearRemodAdd       int64\n",
       "GarageYrBlt      float64\n",
       "MoSold             int64\n",
       "YrSold             int64\n",
       "dtype: object"
      ]
     },
     "execution_count": 19,
     "metadata": {},
     "output_type": "execute_result"
    }
   ],
   "source": [
    "all_data[qual_vars].dtypes"
   ]
  },
  {
   "cell_type": "code",
   "execution_count": 20,
   "id": "6de1d50e",
   "metadata": {
    "execution": {
     "iopub.execute_input": "2022-09-20T22:19:38.759277Z",
     "iopub.status.busy": "2022-09-20T22:19:38.758821Z",
     "iopub.status.idle": "2022-09-20T22:19:38.780733Z",
     "shell.execute_reply": "2022-09-20T22:19:38.779536Z"
    },
    "papermill": {
     "duration": 0.036997,
     "end_time": "2022-09-20T22:19:38.783362",
     "exception": false,
     "start_time": "2022-09-20T22:19:38.746365",
     "status": "completed"
    },
    "tags": []
   },
   "outputs": [],
   "source": [
    "all_data[qual_vars] = all_data[qual_vars].astype('object')"
   ]
  },
  {
   "cell_type": "code",
   "execution_count": 21,
   "id": "ec1125d3",
   "metadata": {
    "execution": {
     "iopub.execute_input": "2022-09-20T22:19:38.807831Z",
     "iopub.status.busy": "2022-09-20T22:19:38.807411Z",
     "iopub.status.idle": "2022-09-20T22:19:38.880636Z",
     "shell.execute_reply": "2022-09-20T22:19:38.877967Z"
    },
    "papermill": {
     "duration": 0.090719,
     "end_time": "2022-09-20T22:19:38.885401",
     "exception": false,
     "start_time": "2022-09-20T22:19:38.794682",
     "status": "completed"
    },
    "tags": []
   },
   "outputs": [
    {
     "name": "stdout",
     "output_type": "stream",
     "text": [
      "MSZoning :\n",
      "RL         1151\n",
      "RM          218\n",
      "FV           65\n",
      "RH           16\n",
      "C (all)      10\n",
      "Name: MSZoning, dtype: int64\n",
      "\n",
      "Street :\n",
      "Pave    1454\n",
      "Grvl       6\n",
      "Name: Street, dtype: int64\n",
      "\n",
      "Alley :\n",
      "NaN     1369\n",
      "Grvl      50\n",
      "Pave      41\n",
      "Name: Alley, dtype: int64\n",
      "\n",
      "LotShape :\n",
      "Reg    925\n",
      "IR1    484\n",
      "IR2     41\n",
      "IR3     10\n",
      "Name: LotShape, dtype: int64\n",
      "\n",
      "LandContour :\n",
      "Lvl    1311\n",
      "Bnk      63\n",
      "HLS      50\n",
      "Low      36\n",
      "Name: LandContour, dtype: int64\n",
      "\n",
      "Utilities :\n",
      "AllPub    1459\n",
      "NoSeWa       1\n",
      "Name: Utilities, dtype: int64\n",
      "\n",
      "LotConfig :\n",
      "Inside     1052\n",
      "Corner      263\n",
      "CulDSac      94\n",
      "FR2          47\n",
      "FR3           4\n",
      "Name: LotConfig, dtype: int64\n",
      "\n",
      "LandSlope :\n",
      "Gtl    1382\n",
      "Mod      65\n",
      "Sev      13\n",
      "Name: LandSlope, dtype: int64\n",
      "\n",
      "Neighborhood :\n",
      "NAmes      225\n",
      "CollgCr    150\n",
      "OldTown    113\n",
      "Edwards    100\n",
      "Somerst     86\n",
      "Gilbert     79\n",
      "NridgHt     77\n",
      "Sawyer      74\n",
      "NWAmes      73\n",
      "SawyerW     59\n",
      "BrkSide     58\n",
      "Crawfor     51\n",
      "Mitchel     49\n",
      "NoRidge     41\n",
      "Timber      38\n",
      "IDOTRR      37\n",
      "ClearCr     28\n",
      "StoneBr     25\n",
      "SWISU       25\n",
      "MeadowV     17\n",
      "Blmngtn     17\n",
      "BrDale      16\n",
      "Veenker     11\n",
      "NPkVill      9\n",
      "Blueste      2\n",
      "Name: Neighborhood, dtype: int64\n",
      "\n",
      "Condition1 :\n",
      "Norm      1260\n",
      "Feedr       81\n",
      "Artery      48\n",
      "RRAn        26\n",
      "PosN        19\n",
      "RRAe        11\n",
      "PosA         8\n",
      "RRNn         5\n",
      "RRNe         2\n",
      "Name: Condition1, dtype: int64\n",
      "\n",
      "Condition2 :\n",
      "Norm      1445\n",
      "Feedr        6\n",
      "Artery       2\n",
      "RRNn         2\n",
      "PosN         2\n",
      "PosA         1\n",
      "RRAn         1\n",
      "RRAe         1\n",
      "Name: Condition2, dtype: int64\n",
      "\n",
      "BldgType :\n",
      "1Fam      1220\n",
      "TwnhsE     114\n",
      "Duplex      52\n",
      "Twnhs       43\n",
      "2fmCon      31\n",
      "Name: BldgType, dtype: int64\n",
      "\n",
      "HouseStyle :\n",
      "1Story    726\n",
      "2Story    445\n",
      "1.5Fin    154\n",
      "SLvl       65\n",
      "SFoyer     37\n",
      "1.5Unf     14\n",
      "2.5Unf     11\n",
      "2.5Fin      8\n",
      "Name: HouseStyle, dtype: int64\n",
      "\n",
      "RoofStyle :\n",
      "Gable      1141\n",
      "Hip         286\n",
      "Flat         13\n",
      "Gambrel      11\n",
      "Mansard       7\n",
      "Shed          2\n",
      "Name: RoofStyle, dtype: int64\n",
      "\n",
      "RoofMatl :\n",
      "CompShg    1434\n",
      "Tar&Grv      11\n",
      "WdShngl       6\n",
      "WdShake       5\n",
      "Metal         1\n",
      "Membran       1\n",
      "Roll          1\n",
      "ClyTile       1\n",
      "Name: RoofMatl, dtype: int64\n",
      "\n",
      "Exterior1st :\n",
      "VinylSd    515\n",
      "HdBoard    222\n",
      "MetalSd    220\n",
      "Wd Sdng    206\n",
      "Plywood    108\n",
      "CemntBd     61\n",
      "BrkFace     50\n",
      "WdShing     26\n",
      "Stucco      25\n",
      "AsbShng     20\n",
      "BrkComm      2\n",
      "Stone        2\n",
      "AsphShn      1\n",
      "ImStucc      1\n",
      "CBlock       1\n",
      "Name: Exterior1st, dtype: int64\n",
      "\n",
      "Exterior2nd :\n",
      "VinylSd    504\n",
      "MetalSd    214\n",
      "HdBoard    207\n",
      "Wd Sdng    197\n",
      "Plywood    142\n",
      "CmentBd     60\n",
      "Wd Shng     38\n",
      "Stucco      26\n",
      "BrkFace     25\n",
      "AsbShng     20\n",
      "ImStucc     10\n",
      "Brk Cmn      7\n",
      "Stone        5\n",
      "AsphShn      3\n",
      "Other        1\n",
      "CBlock       1\n",
      "Name: Exterior2nd, dtype: int64\n",
      "\n",
      "MasVnrType :\n",
      "None       864\n",
      "BrkFace    445\n",
      "Stone      128\n",
      "BrkCmn      15\n",
      "NaN          8\n",
      "Name: MasVnrType, dtype: int64\n",
      "\n",
      "ExterQual :\n",
      "TA    906\n",
      "Gd    488\n",
      "Ex     52\n",
      "Fa     14\n",
      "Name: ExterQual, dtype: int64\n",
      "\n",
      "ExterCond :\n",
      "TA    1282\n",
      "Gd     146\n",
      "Fa      28\n",
      "Ex       3\n",
      "Po       1\n",
      "Name: ExterCond, dtype: int64\n",
      "\n",
      "Foundation :\n",
      "PConc     647\n",
      "CBlock    634\n",
      "BrkTil    146\n",
      "Slab       24\n",
      "Stone       6\n",
      "Wood        3\n",
      "Name: Foundation, dtype: int64\n",
      "\n",
      "BsmtQual :\n",
      "TA     649\n",
      "Gd     618\n",
      "Ex     121\n",
      "NaN     37\n",
      "Fa      35\n",
      "Name: BsmtQual, dtype: int64\n",
      "\n",
      "BsmtCond :\n",
      "TA     1311\n",
      "Gd       65\n",
      "Fa       45\n",
      "NaN      37\n",
      "Po        2\n",
      "Name: BsmtCond, dtype: int64\n",
      "\n",
      "BsmtExposure :\n",
      "No     953\n",
      "Av     221\n",
      "Gd     134\n",
      "Mn     114\n",
      "NaN     38\n",
      "Name: BsmtExposure, dtype: int64\n",
      "\n",
      "BsmtFinType1 :\n",
      "Unf    430\n",
      "GLQ    418\n",
      "ALQ    220\n",
      "BLQ    148\n",
      "Rec    133\n",
      "LwQ     74\n",
      "NaN     37\n",
      "Name: BsmtFinType1, dtype: int64\n",
      "\n",
      "BsmtFinType2 :\n",
      "Unf    1256\n",
      "Rec      54\n",
      "LwQ      46\n",
      "NaN      38\n",
      "BLQ      33\n",
      "ALQ      19\n",
      "GLQ      14\n",
      "Name: BsmtFinType2, dtype: int64\n",
      "\n",
      "Heating :\n",
      "GasA     1428\n",
      "GasW       18\n",
      "Grav        7\n",
      "Wall        4\n",
      "OthW        2\n",
      "Floor       1\n",
      "Name: Heating, dtype: int64\n",
      "\n",
      "HeatingQC :\n",
      "Ex    741\n",
      "TA    428\n",
      "Gd    241\n",
      "Fa     49\n",
      "Po      1\n",
      "Name: HeatingQC, dtype: int64\n",
      "\n",
      "CentralAir :\n",
      "Y    1365\n",
      "N      95\n",
      "Name: CentralAir, dtype: int64\n",
      "\n",
      "Electrical :\n",
      "SBrkr    1334\n",
      "FuseA      94\n",
      "FuseF      27\n",
      "FuseP       3\n",
      "Mix         1\n",
      "NaN         1\n",
      "Name: Electrical, dtype: int64\n",
      "\n",
      "KitchenQual :\n",
      "TA    735\n",
      "Gd    586\n",
      "Ex    100\n",
      "Fa     39\n",
      "Name: KitchenQual, dtype: int64\n",
      "\n",
      "Functional :\n",
      "Typ     1360\n",
      "Min2      34\n",
      "Min1      31\n",
      "Mod       15\n",
      "Maj1      14\n",
      "Maj2       5\n",
      "Sev        1\n",
      "Name: Functional, dtype: int64\n",
      "\n",
      "FireplaceQu :\n",
      "NaN    690\n",
      "Gd     380\n",
      "TA     313\n",
      "Fa      33\n",
      "Ex      24\n",
      "Po      20\n",
      "Name: FireplaceQu, dtype: int64\n",
      "\n",
      "GarageType :\n",
      "Attchd     870\n",
      "Detchd     387\n",
      "BuiltIn     88\n",
      "NaN         81\n",
      "Basment     19\n",
      "CarPort      9\n",
      "2Types       6\n",
      "Name: GarageType, dtype: int64\n",
      "\n",
      "GarageFinish :\n",
      "Unf    605\n",
      "RFn    422\n",
      "Fin    352\n",
      "NaN     81\n",
      "Name: GarageFinish, dtype: int64\n",
      "\n",
      "GarageQual :\n",
      "TA     1311\n",
      "NaN      81\n",
      "Fa       48\n",
      "Gd       14\n",
      "Ex        3\n",
      "Po        3\n",
      "Name: GarageQual, dtype: int64\n",
      "\n",
      "GarageCond :\n",
      "TA     1326\n",
      "NaN      81\n",
      "Fa       35\n",
      "Gd        9\n",
      "Po        7\n",
      "Ex        2\n",
      "Name: GarageCond, dtype: int64\n",
      "\n",
      "PavedDrive :\n",
      "Y    1340\n",
      "N      90\n",
      "P      30\n",
      "Name: PavedDrive, dtype: int64\n",
      "\n",
      "PoolQC :\n",
      "NaN    1453\n",
      "Gd        3\n",
      "Ex        2\n",
      "Fa        2\n",
      "Name: PoolQC, dtype: int64\n",
      "\n",
      "Fence :\n",
      "NaN      1179\n",
      "MnPrv     157\n",
      "GdPrv      59\n",
      "GdWo       54\n",
      "MnWw       11\n",
      "Name: Fence, dtype: int64\n",
      "\n",
      "MiscFeature :\n",
      "NaN     1406\n",
      "Shed      49\n",
      "Gar2       2\n",
      "Othr       2\n",
      "TenC       1\n",
      "Name: MiscFeature, dtype: int64\n",
      "\n",
      "SaleType :\n",
      "WD       1267\n",
      "New       122\n",
      "COD        43\n",
      "ConLD       9\n",
      "ConLI       5\n",
      "ConLw       5\n",
      "CWD         4\n",
      "Oth         3\n",
      "Con         2\n",
      "Name: SaleType, dtype: int64\n",
      "\n",
      "SaleCondition :\n",
      "Normal     1198\n",
      "Partial     125\n",
      "Abnorml     101\n",
      "Family       20\n",
      "Alloca       12\n",
      "AdjLand       4\n",
      "Name: SaleCondition, dtype: int64\n",
      "\n",
      "MSSubClass :\n",
      "20     536\n",
      "60     299\n",
      "50     144\n",
      "120     87\n",
      "30      69\n",
      "160     63\n",
      "70      60\n",
      "80      58\n",
      "90      52\n",
      "190     30\n",
      "85      20\n",
      "75      16\n",
      "45      12\n",
      "180     10\n",
      "40       4\n",
      "Name: MSSubClass, dtype: int64\n",
      "\n",
      "YearBuilt :\n",
      "2006    67\n",
      "2005    64\n",
      "2004    54\n",
      "2007    49\n",
      "2003    45\n",
      "1976    33\n",
      "1977    32\n",
      "1920    30\n",
      "1959    26\n",
      "1998    25\n",
      "1999    25\n",
      "1965    24\n",
      "2000    24\n",
      "1970    24\n",
      "1954    24\n",
      "1958    24\n",
      "2008    23\n",
      "2002    23\n",
      "1972    23\n",
      "1971    22\n",
      "1968    22\n",
      "1950    20\n",
      "1957    20\n",
      "2001    20\n",
      "1994    19\n",
      "1962    19\n",
      "1940    18\n",
      "1966    18\n",
      "2009    18\n",
      "1995    18\n",
      "1910    17\n",
      "1993    17\n",
      "1960    17\n",
      "1963    16\n",
      "1978    16\n",
      "1925    16\n",
      "1955    16\n",
      "1967    16\n",
      "1996    15\n",
      "1941    15\n",
      "1964    15\n",
      "1961    14\n",
      "1948    14\n",
      "1956    14\n",
      "1969    14\n",
      "1997    14\n",
      "1992    13\n",
      "1953    12\n",
      "1990    12\n",
      "1949    12\n",
      "1973    11\n",
      "1988    11\n",
      "1900    10\n",
      "1974    10\n",
      "1915    10\n",
      "1980    10\n",
      "1984     9\n",
      "1926     9\n",
      "1936     9\n",
      "1979     9\n",
      "1930     9\n",
      "1922     8\n",
      "1975     8\n",
      "1939     8\n",
      "1916     8\n",
      "1928     7\n",
      "1914     7\n",
      "1923     7\n",
      "1924     7\n",
      "1918     7\n",
      "1946     7\n",
      "1935     6\n",
      "1951     6\n",
      "1921     6\n",
      "1945     6\n",
      "1982     6\n",
      "1931     6\n",
      "1986     5\n",
      "1937     5\n",
      "1981     5\n",
      "1991     5\n",
      "1947     5\n",
      "1952     5\n",
      "1985     5\n",
      "1929     4\n",
      "1938     4\n",
      "1983     4\n",
      "1932     4\n",
      "1880     4\n",
      "1919     3\n",
      "1989     3\n",
      "1912     3\n",
      "1927     3\n",
      "1987     3\n",
      "1934     3\n",
      "1942     2\n",
      "1890     2\n",
      "1885     2\n",
      "1908     2\n",
      "1892     2\n",
      "1913     1\n",
      "1893     1\n",
      "1906     1\n",
      "2010     1\n",
      "1898     1\n",
      "1904     1\n",
      "1882     1\n",
      "1875     1\n",
      "1911     1\n",
      "1917     1\n",
      "1872     1\n",
      "1905     1\n",
      "Name: YearBuilt, dtype: int64\n",
      "\n",
      "YearRemodAdd :\n",
      "1950    178\n",
      "2006     97\n",
      "2007     76\n",
      "2005     73\n",
      "2004     62\n",
      "2000     55\n",
      "2003     51\n",
      "2002     48\n",
      "2008     40\n",
      "1996     36\n",
      "1998     36\n",
      "1995     31\n",
      "1976     30\n",
      "1999     30\n",
      "1970     26\n",
      "1977     25\n",
      "1997     25\n",
      "2009     23\n",
      "1994     22\n",
      "2001     21\n",
      "1972     20\n",
      "1965     19\n",
      "1993     19\n",
      "1959     18\n",
      "1971     18\n",
      "1992     17\n",
      "1968     17\n",
      "1978     16\n",
      "1966     15\n",
      "1958     15\n",
      "1990     15\n",
      "1969     14\n",
      "1954     14\n",
      "1991     14\n",
      "1962     14\n",
      "1963     13\n",
      "1960     12\n",
      "1980     12\n",
      "1967     12\n",
      "1973     11\n",
      "1989     11\n",
      "1964     11\n",
      "1953     10\n",
      "1979     10\n",
      "1987     10\n",
      "1956     10\n",
      "1975     10\n",
      "1955      9\n",
      "1957      9\n",
      "1985      9\n",
      "1988      9\n",
      "1981      8\n",
      "1961      8\n",
      "1984      7\n",
      "1982      7\n",
      "1974      7\n",
      "2010      6\n",
      "1986      5\n",
      "1952      5\n",
      "1983      5\n",
      "1951      4\n",
      "Name: YearRemodAdd, dtype: int64\n",
      "\n",
      "GarageYrBlt :\n",
      "NaN       81\n",
      "2005.0    65\n",
      "2006.0    59\n",
      "2004.0    53\n",
      "2003.0    50\n",
      "2007.0    49\n",
      "1977.0    35\n",
      "1998.0    31\n",
      "1999.0    30\n",
      "1976.0    29\n",
      "2008.0    29\n",
      "2000.0    27\n",
      "1968.0    26\n",
      "2002.0    26\n",
      "1950.0    24\n",
      "1993.0    22\n",
      "1958.0    21\n",
      "1966.0    21\n",
      "2009.0    21\n",
      "1965.0    21\n",
      "1962.0    21\n",
      "2001.0    20\n",
      "1970.0    20\n",
      "1996.0    20\n",
      "1957.0    20\n",
      "1954.0    19\n",
      "1997.0    19\n",
      "1978.0    19\n",
      "1960.0    19\n",
      "1995.0    18\n",
      "1994.0    18\n",
      "1974.0    18\n",
      "1964.0    18\n",
      "1959.0    17\n",
      "1990.0    16\n",
      "1963.0    16\n",
      "1956.0    16\n",
      "1967.0    15\n",
      "1969.0    15\n",
      "1979.0    15\n",
      "1980.0    15\n",
      "1988.0    14\n",
      "1940.0    14\n",
      "1920.0    14\n",
      "1972.0    14\n",
      "1973.0    14\n",
      "1961.0    13\n",
      "1971.0    13\n",
      "1992.0    13\n",
      "1955.0    13\n",
      "1953.0    12\n",
      "1948.0    11\n",
      "1987.0    11\n",
      "1989.0    10\n",
      "1925.0    10\n",
      "1981.0    10\n",
      "1985.0    10\n",
      "1941.0    10\n",
      "1939.0     9\n",
      "1991.0     9\n",
      "1975.0     9\n",
      "1949.0     8\n",
      "1930.0     8\n",
      "1984.0     8\n",
      "1983.0     7\n",
      "1926.0     6\n",
      "1951.0     6\n",
      "1986.0     6\n",
      "1916.0     5\n",
      "1922.0     5\n",
      "1936.0     5\n",
      "1945.0     4\n",
      "1946.0     4\n",
      "1928.0     4\n",
      "1935.0     4\n",
      "1982.0     4\n",
      "1931.0     4\n",
      "1910.0     3\n",
      "2010.0     3\n",
      "1932.0     3\n",
      "1923.0     3\n",
      "1952.0     3\n",
      "1938.0     3\n",
      "1924.0     3\n",
      "1921.0     3\n",
      "1947.0     2\n",
      "1937.0     2\n",
      "1942.0     2\n",
      "1915.0     2\n",
      "1918.0     2\n",
      "1934.0     2\n",
      "1914.0     2\n",
      "1929.0     2\n",
      "1927.0     1\n",
      "1900.0     1\n",
      "1906.0     1\n",
      "1908.0     1\n",
      "1933.0     1\n",
      "Name: GarageYrBlt, dtype: int64\n",
      "\n",
      "MoSold :\n",
      "6     253\n",
      "7     234\n",
      "5     204\n",
      "4     141\n",
      "8     122\n",
      "3     106\n",
      "10     89\n",
      "11     79\n",
      "9      63\n",
      "12     59\n",
      "1      58\n",
      "2      52\n",
      "Name: MoSold, dtype: int64\n",
      "\n",
      "YrSold :\n",
      "2009    338\n",
      "2007    329\n",
      "2006    314\n",
      "2008    304\n",
      "2010    175\n",
      "Name: YrSold, dtype: int64\n",
      "\n"
     ]
    }
   ],
   "source": [
    "#exploring different values of qualitative variables\n",
    "for var in qual_vars:\n",
    "    print(var, \":\")\n",
    "    print(train[var].value_counts(dropna=False))\n",
    "    print()"
   ]
  },
  {
   "cell_type": "code",
   "execution_count": 22,
   "id": "d7aa499e",
   "metadata": {
    "execution": {
     "iopub.execute_input": "2022-09-20T22:19:38.912527Z",
     "iopub.status.busy": "2022-09-20T22:19:38.911866Z",
     "iopub.status.idle": "2022-09-20T22:19:39.001372Z",
     "shell.execute_reply": "2022-09-20T22:19:39.000296Z"
    },
    "papermill": {
     "duration": 0.106618,
     "end_time": "2022-09-20T22:19:39.004308",
     "exception": false,
     "start_time": "2022-09-20T22:19:38.897690",
     "status": "completed"
    },
    "tags": []
   },
   "outputs": [],
   "source": [
    "#getting dummies\n",
    "qual_vars.append('train_test')\n",
    "dummies = pd.get_dummies(all_data[qual_vars])#,dummy_na=True)\n",
    "train_dummies = dummies[dummies['train_test']==1]\n",
    "test_dummies = dummies[dummies['train_test']==0]"
   ]
  },
  {
   "cell_type": "code",
   "execution_count": 23,
   "id": "bcf4f5d2",
   "metadata": {
    "execution": {
     "iopub.execute_input": "2022-09-20T22:19:39.030848Z",
     "iopub.status.busy": "2022-09-20T22:19:39.030096Z",
     "iopub.status.idle": "2022-09-20T22:19:39.065826Z",
     "shell.execute_reply": "2022-09-20T22:19:39.064409Z"
    },
    "papermill": {
     "duration": 0.051948,
     "end_time": "2022-09-20T22:19:39.068769",
     "exception": false,
     "start_time": "2022-09-20T22:19:39.016821",
     "status": "completed"
    },
    "tags": []
   },
   "outputs": [],
   "source": [
    "#final split into x, y, test, and train\n",
    "quant_vars.append('Id')\n",
    "X_train = train[quant_vars]\n",
    "X_train = X_train.merge(train_dummies, on='Id')\n",
    "y_train = train['SalePrice']\n",
    "X_test = test[quant_vars]\n",
    "X_test = X_test.merge(test_dummies, on='Id')"
   ]
  },
  {
   "cell_type": "markdown",
   "id": "bc716e72",
   "metadata": {
    "papermill": {
     "duration": 0.012116,
     "end_time": "2022-09-20T22:19:39.093114",
     "exception": false,
     "start_time": "2022-09-20T22:19:39.080998",
     "status": "completed"
    },
    "tags": []
   },
   "source": [
    "## Exploratory Analysis:"
   ]
  },
  {
   "cell_type": "code",
   "execution_count": 24,
   "id": "24c375ad",
   "metadata": {
    "_kg_hide-output": true,
    "execution": {
     "iopub.execute_input": "2022-09-20T22:19:39.119257Z",
     "iopub.status.busy": "2022-09-20T22:19:39.118843Z",
     "iopub.status.idle": "2022-09-20T22:19:39.124287Z",
     "shell.execute_reply": "2022-09-20T22:19:39.122926Z"
    },
    "papermill": {
     "duration": 0.021701,
     "end_time": "2022-09-20T22:19:39.126970",
     "exception": false,
     "start_time": "2022-09-20T22:19:39.105269",
     "status": "completed"
    },
    "tags": []
   },
   "outputs": [],
   "source": [
    "#looking at correlations between qualitative variables and price graphically\n",
    "#for var in quant_vars:\n",
    "    #sns.regplot(data=train,x=var,y='SalePrice')\n",
    "    #plt.show()"
   ]
  },
  {
   "cell_type": "code",
   "execution_count": 25,
   "id": "b182c594",
   "metadata": {
    "execution": {
     "iopub.execute_input": "2022-09-20T22:19:39.153422Z",
     "iopub.status.busy": "2022-09-20T22:19:39.152444Z",
     "iopub.status.idle": "2022-09-20T22:19:39.412179Z",
     "shell.execute_reply": "2022-09-20T22:19:39.410934Z"
    },
    "papermill": {
     "duration": 0.276178,
     "end_time": "2022-09-20T22:19:39.415208",
     "exception": false,
     "start_time": "2022-09-20T22:19:39.139030",
     "status": "completed"
    },
    "tags": []
   },
   "outputs": [],
   "source": [
    "from sklearn.metrics import r2_score\n",
    "from sklearn.linear_model import LinearRegression"
   ]
  },
  {
   "cell_type": "code",
   "execution_count": 26,
   "id": "4c23e8b8",
   "metadata": {
    "execution": {
     "iopub.execute_input": "2022-09-20T22:19:39.442077Z",
     "iopub.status.busy": "2022-09-20T22:19:39.441651Z",
     "iopub.status.idle": "2022-09-20T22:19:39.447667Z",
     "shell.execute_reply": "2022-09-20T22:19:39.446357Z"
    },
    "papermill": {
     "duration": 0.022141,
     "end_time": "2022-09-20T22:19:39.449949",
     "exception": false,
     "start_time": "2022-09-20T22:19:39.427808",
     "status": "completed"
    },
    "tags": []
   },
   "outputs": [],
   "source": [
    "#looking at correlations between qualitative variables and price using r_squared\n",
    "# for var in quant_vars:\n",
    "#     x = X_train[var]\n",
    "#     X = x[:, None]\n",
    "#     reg = LinearRegression()\n",
    "#     reg.fit(X,y_train)\n",
    "#     y = reg.predict(X_test[var][:, None])\n",
    "#     r2_score(y)"
   ]
  },
  {
   "cell_type": "code",
   "execution_count": 27,
   "id": "7a72ef1e",
   "metadata": {
    "execution": {
     "iopub.execute_input": "2022-09-20T22:19:39.476528Z",
     "iopub.status.busy": "2022-09-20T22:19:39.476051Z",
     "iopub.status.idle": "2022-09-20T22:19:39.481573Z",
     "shell.execute_reply": "2022-09-20T22:19:39.480290Z"
    },
    "papermill": {
     "duration": 0.02152,
     "end_time": "2022-09-20T22:19:39.483843",
     "exception": false,
     "start_time": "2022-09-20T22:19:39.462323",
     "status": "completed"
    },
    "tags": []
   },
   "outputs": [],
   "source": [
    "# X_test.isna().sum()"
   ]
  },
  {
   "cell_type": "markdown",
   "id": "d5cee3b3",
   "metadata": {
    "papermill": {
     "duration": 0.011268,
     "end_time": "2022-09-20T22:19:39.506871",
     "exception": false,
     "start_time": "2022-09-20T22:19:39.495603",
     "status": "completed"
    },
    "tags": []
   },
   "source": [
    "## Preliminary Correlations"
   ]
  },
  {
   "cell_type": "code",
   "execution_count": 28,
   "id": "e68ce596",
   "metadata": {
    "execution": {
     "iopub.execute_input": "2022-09-20T22:19:39.532403Z",
     "iopub.status.busy": "2022-09-20T22:19:39.531902Z",
     "iopub.status.idle": "2022-09-20T22:19:39.659268Z",
     "shell.execute_reply": "2022-09-20T22:19:39.658037Z"
    },
    "papermill": {
     "duration": 0.143844,
     "end_time": "2022-09-20T22:19:39.662295",
     "exception": false,
     "start_time": "2022-09-20T22:19:39.518451",
     "status": "completed"
    },
    "tags": []
   },
   "outputs": [],
   "source": [
    "#importing models\n",
    "from sklearn.preprocessing import StandardScaler\n",
    "from sklearn.model_selection import cross_val_score\n",
    "from sklearn.linear_model import LinearRegression\n",
    "from sklearn.linear_model import Ridge\n",
    "from sklearn.linear_model import Lasso\n",
    "from xgboost import XGBRegressor"
   ]
  },
  {
   "cell_type": "code",
   "execution_count": 29,
   "id": "b72af73a",
   "metadata": {
    "execution": {
     "iopub.execute_input": "2022-09-20T22:19:39.688344Z",
     "iopub.status.busy": "2022-09-20T22:19:39.687924Z",
     "iopub.status.idle": "2022-09-20T22:19:39.693152Z",
     "shell.execute_reply": "2022-09-20T22:19:39.691836Z"
    },
    "papermill": {
     "duration": 0.020869,
     "end_time": "2022-09-20T22:19:39.695433",
     "exception": false,
     "start_time": "2022-09-20T22:19:39.674564",
     "status": "completed"
    },
    "tags": []
   },
   "outputs": [],
   "source": [
    "#scaling\n",
    "#scaler=StandardScaler()\n",
    "#X_train_scaled = scaler.fit_transform(X_train)\n",
    "#X_test_scaled = scaler.fit_transform(X_test)"
   ]
  },
  {
   "cell_type": "code",
   "execution_count": 30,
   "id": "4dc3c8ac",
   "metadata": {
    "execution": {
     "iopub.execute_input": "2022-09-20T22:19:39.720924Z",
     "iopub.status.busy": "2022-09-20T22:19:39.720423Z",
     "iopub.status.idle": "2022-09-20T22:19:39.725537Z",
     "shell.execute_reply": "2022-09-20T22:19:39.724046Z"
    },
    "papermill": {
     "duration": 0.020537,
     "end_time": "2022-09-20T22:19:39.727966",
     "exception": false,
     "start_time": "2022-09-20T22:19:39.707429",
     "status": "completed"
    },
    "tags": []
   },
   "outputs": [],
   "source": [
    "# #linear regression\n",
    "# reg = LinearRegression()\n",
    "# cv = cross_val_score(reg,X_train,y_train,cv=5)\n",
    "# print(cv)\n",
    "# print(np.mean(cv))"
   ]
  },
  {
   "cell_type": "code",
   "execution_count": 31,
   "id": "9ba29c4b",
   "metadata": {
    "execution": {
     "iopub.execute_input": "2022-09-20T22:19:39.753661Z",
     "iopub.status.busy": "2022-09-20T22:19:39.752795Z",
     "iopub.status.idle": "2022-09-20T22:19:39.758228Z",
     "shell.execute_reply": "2022-09-20T22:19:39.757081Z"
    },
    "papermill": {
     "duration": 0.020715,
     "end_time": "2022-09-20T22:19:39.760406",
     "exception": false,
     "start_time": "2022-09-20T22:19:39.739691",
     "status": "completed"
    },
    "tags": []
   },
   "outputs": [],
   "source": [
    "# #ridge regression\n",
    "# ridge = Ridge()\n",
    "# cv = cross_val_score(ridge,X_train,y_train)\n",
    "# print(cv)\n",
    "# print(np.mean(cv))"
   ]
  },
  {
   "cell_type": "code",
   "execution_count": 32,
   "id": "8ed4846d",
   "metadata": {
    "execution": {
     "iopub.execute_input": "2022-09-20T22:19:39.786264Z",
     "iopub.status.busy": "2022-09-20T22:19:39.785430Z",
     "iopub.status.idle": "2022-09-20T22:19:39.790939Z",
     "shell.execute_reply": "2022-09-20T22:19:39.789628Z"
    },
    "papermill": {
     "duration": 0.021313,
     "end_time": "2022-09-20T22:19:39.793671",
     "exception": false,
     "start_time": "2022-09-20T22:19:39.772358",
     "status": "completed"
    },
    "tags": []
   },
   "outputs": [],
   "source": [
    "# #lasso regression\n",
    "# lasso = Lasso()\n",
    "# cv = cross_val_score(lasso,X_train,y_train)\n",
    "# print(cv)\n",
    "# print(np.mean(cv))"
   ]
  },
  {
   "cell_type": "code",
   "execution_count": 33,
   "id": "04440fb9",
   "metadata": {
    "execution": {
     "iopub.execute_input": "2022-09-20T22:19:39.819608Z",
     "iopub.status.busy": "2022-09-20T22:19:39.819128Z",
     "iopub.status.idle": "2022-09-20T22:19:49.519636Z",
     "shell.execute_reply": "2022-09-20T22:19:49.517950Z"
    },
    "papermill": {
     "duration": 9.717742,
     "end_time": "2022-09-20T22:19:49.523767",
     "exception": false,
     "start_time": "2022-09-20T22:19:39.806025",
     "status": "completed"
    },
    "tags": []
   },
   "outputs": [
    {
     "name": "stdout",
     "output_type": "stream",
     "text": [
      "[0.86317579 0.8329959  0.85554012 0.89258598 0.87288017]\n",
      "0.8634355915401292\n"
     ]
    }
   ],
   "source": [
    "#XGBRegressor\n",
    "xgb = XGBRegressor()\n",
    "cv = cross_val_score(xgb,X_train,y_train)\n",
    "print(cv)\n",
    "print(np.mean(cv))"
   ]
  },
  {
   "cell_type": "markdown",
   "id": "7039c850",
   "metadata": {
    "papermill": {
     "duration": 0.012096,
     "end_time": "2022-09-20T22:19:49.549210",
     "exception": false,
     "start_time": "2022-09-20T22:19:49.537114",
     "status": "completed"
    },
    "tags": []
   },
   "source": [
    "**To do:**\n",
    "\n",
    "Make dummies\n",
    "\n",
    "Do more feature engineering"
   ]
  },
  {
   "cell_type": "markdown",
   "id": "bdced950",
   "metadata": {
    "papermill": {
     "duration": 0.012168,
     "end_time": "2022-09-20T22:19:49.574028",
     "exception": false,
     "start_time": "2022-09-20T22:19:49.561860",
     "status": "completed"
    },
    "tags": []
   },
   "source": [
    "## Training Final Model"
   ]
  },
  {
   "cell_type": "code",
   "execution_count": 34,
   "id": "92a688e6",
   "metadata": {
    "execution": {
     "iopub.execute_input": "2022-09-20T22:19:49.601386Z",
     "iopub.status.busy": "2022-09-20T22:19:49.600991Z",
     "iopub.status.idle": "2022-09-20T22:19:49.605784Z",
     "shell.execute_reply": "2022-09-20T22:19:49.604853Z"
    },
    "papermill": {
     "duration": 0.020802,
     "end_time": "2022-09-20T22:19:49.608001",
     "exception": false,
     "start_time": "2022-09-20T22:19:49.587199",
     "status": "completed"
    },
    "tags": []
   },
   "outputs": [],
   "source": [
    "model = XGBRegressor()"
   ]
  },
  {
   "cell_type": "code",
   "execution_count": 35,
   "id": "e5ba53f2",
   "metadata": {
    "execution": {
     "iopub.execute_input": "2022-09-20T22:19:49.634689Z",
     "iopub.status.busy": "2022-09-20T22:19:49.634245Z",
     "iopub.status.idle": "2022-09-20T22:19:53.178982Z",
     "shell.execute_reply": "2022-09-20T22:19:53.177537Z"
    },
    "papermill": {
     "duration": 3.561252,
     "end_time": "2022-09-20T22:19:53.181688",
     "exception": false,
     "start_time": "2022-09-20T22:19:49.620436",
     "status": "completed"
    },
    "tags": []
   },
   "outputs": [
    {
     "data": {
      "text/plain": [
       "XGBRegressor(base_score=0.5, booster='gbtree', callbacks=None,\n",
       "             colsample_bylevel=1, colsample_bynode=1, colsample_bytree=1,\n",
       "             early_stopping_rounds=None, enable_categorical=False,\n",
       "             eval_metric=None, gamma=0, gpu_id=-1, grow_policy='depthwise',\n",
       "             importance_type=None, interaction_constraints='',\n",
       "             learning_rate=0.300000012, max_bin=256, max_cat_to_onehot=4,\n",
       "             max_delta_step=0, max_depth=6, max_leaves=0, min_child_weight=1,\n",
       "             missing=nan, monotone_constraints='()', n_estimators=100, n_jobs=0,\n",
       "             num_parallel_tree=1, predictor='auto', random_state=0, reg_alpha=0,\n",
       "             reg_lambda=1, ...)"
      ]
     },
     "execution_count": 35,
     "metadata": {},
     "output_type": "execute_result"
    }
   ],
   "source": [
    "model.fit(X_train,y_train)"
   ]
  },
  {
   "cell_type": "code",
   "execution_count": 36,
   "id": "4fe2692e",
   "metadata": {
    "execution": {
     "iopub.execute_input": "2022-09-20T22:19:53.208905Z",
     "iopub.status.busy": "2022-09-20T22:19:53.207813Z",
     "iopub.status.idle": "2022-09-20T22:19:53.246501Z",
     "shell.execute_reply": "2022-09-20T22:19:53.244879Z"
    },
    "papermill": {
     "duration": 0.055747,
     "end_time": "2022-09-20T22:19:53.249831",
     "exception": false,
     "start_time": "2022-09-20T22:19:53.194084",
     "status": "completed"
    },
    "tags": []
   },
   "outputs": [],
   "source": [
    "y_test = model.predict(X_test)"
   ]
  },
  {
   "cell_type": "code",
   "execution_count": 37,
   "id": "f7094815",
   "metadata": {
    "execution": {
     "iopub.execute_input": "2022-09-20T22:19:53.277643Z",
     "iopub.status.busy": "2022-09-20T22:19:53.276358Z",
     "iopub.status.idle": "2022-09-20T22:19:53.289206Z",
     "shell.execute_reply": "2022-09-20T22:19:53.287958Z"
    },
    "papermill": {
     "duration": 0.029456,
     "end_time": "2022-09-20T22:19:53.292131",
     "exception": false,
     "start_time": "2022-09-20T22:19:53.262675",
     "status": "completed"
    },
    "tags": []
   },
   "outputs": [],
   "source": [
    "final_data = {'Id': X_test['Id'], 'SalePrice': y_test}\n",
    "submission = pd.DataFrame(data=final_data)\n",
    "submission.to_csv('submission_xgb', index=False)"
   ]
  }
 ],
 "metadata": {
  "kernelspec": {
   "display_name": "Python 3",
   "language": "python",
   "name": "python3"
  },
  "language_info": {
   "codemirror_mode": {
    "name": "ipython",
    "version": 3
   },
   "file_extension": ".py",
   "mimetype": "text/x-python",
   "name": "python",
   "nbconvert_exporter": "python",
   "pygments_lexer": "ipython3",
   "version": "3.7.12"
  },
  "papermill": {
   "default_parameters": {},
   "duration": 27.638135,
   "end_time": "2022-09-20T22:19:54.127902",
   "environment_variables": {},
   "exception": null,
   "input_path": "__notebook__.ipynb",
   "output_path": "__notebook__.ipynb",
   "parameters": {},
   "start_time": "2022-09-20T22:19:26.489767",
   "version": "2.3.4"
  }
 },
 "nbformat": 4,
 "nbformat_minor": 5
}
